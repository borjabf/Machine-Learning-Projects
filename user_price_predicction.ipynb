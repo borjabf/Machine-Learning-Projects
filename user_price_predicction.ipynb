{
 "cells": [
  {
   "cell_type": "markdown",
   "metadata": {
    "toc": true
   },
   "source": [
    "<h1>Table of Contents<span class=\"tocSkip\"></span></h1>\n",
    "<div class=\"toc\"><ul class=\"toc-item\"><li><span><a href=\"#First-look-at-data\" data-toc-modified-id=\"First-look-at-data-1\"><span class=\"toc-item-num\">1&nbsp;&nbsp;</span>First look at data</a></span></li><li><span><a href=\"#Numerical-features-EDA\" data-toc-modified-id=\"Numerical-features-EDA-2\"><span class=\"toc-item-num\">2&nbsp;&nbsp;</span>Numerical features EDA</a></span></li><li><span><a href=\"#Non-Numerical-features-EDA\" data-toc-modified-id=\"Non-Numerical-features-EDA-3\"><span class=\"toc-item-num\">3&nbsp;&nbsp;</span>Non Numerical features EDA</a></span></li><li><span><a href=\"#Target-EDA\" data-toc-modified-id=\"Target-EDA-4\"><span class=\"toc-item-num\">4&nbsp;&nbsp;</span>Target EDA</a></span></li><li><span><a href=\"#A-little-preprocessing\" data-toc-modified-id=\"A-little-preprocessing-5\"><span class=\"toc-item-num\">5&nbsp;&nbsp;</span>A little preprocessing</a></span></li><li><span><a href=\"#Random-Forest\" data-toc-modified-id=\"Random-Forest-6\"><span class=\"toc-item-num\">6&nbsp;&nbsp;</span>Random Forest</a></span></li><li><span><a href=\"#Evaluation\" data-toc-modified-id=\"Evaluation-7\"><span class=\"toc-item-num\">7&nbsp;&nbsp;</span>Evaluation</a></span></li></ul></div>"
   ]
  },
  {
   "cell_type": "code",
   "execution_count": 189,
   "metadata": {},
   "outputs": [],
   "source": [
    "import pandas as pd\n",
    "import numpy as np\n",
    "import json\n",
    "import matplotlib.pyplot as plt\n",
    "import seaborn as sns\n",
    "from sklearn.preprocessing import MinMaxScaler\n",
    "from sklearn.ensemble import RandomForestRegressor\n",
    "from sklearn.model_selection import KFold, GridSearchCV\n",
    "\n",
    "%matplotlib inline"
   ]
  },
  {
   "cell_type": "code",
   "execution_count": 195,
   "metadata": {},
   "outputs": [],
   "source": [
    "path = '/Users/MacBookProCasa/Documents/Formación/Data_science/Python/Projects/Gudog/price_prediction/walking_es'\n",
    "data = pd.read_csv(path + '/walking_es.csv')"
   ]
  },
  {
   "cell_type": "markdown",
   "metadata": {},
   "source": [
    "## First look at data"
   ]
  },
  {
   "cell_type": "markdown",
   "metadata": {},
   "source": [
    "First I look at the shape of the dataset I am going to work with, and I show the data type of each feature"
   ]
  },
  {
   "cell_type": "code",
   "execution_count": 196,
   "metadata": {},
   "outputs": [
    {
     "name": "stdout",
     "output_type": "stream",
     "text": [
      "Columns 4913 \n",
      "Rows 23\n"
     ]
    }
   ],
   "source": [
    "original_shape = data.shape\n",
    "print('Columns {} \\nRows {}'.format(original_shape[0], original_shape[1]))"
   ]
  },
  {
   "cell_type": "markdown",
   "metadata": {},
   "source": [
    "Because the dataset contains sensitive information, I will anonymize the dataset. The feature I want to predict is the price of the service which we will leave as target."
   ]
  },
  {
   "cell_type": "code",
   "execution_count": 197,
   "metadata": {},
   "outputs": [
    {
     "name": "stdout",
     "output_type": "stream",
     "text": [
      "<class 'pandas.core.frame.DataFrame'>\n",
      "RangeIndex: 4913 entries, 0 to 4912\n",
      "Data columns (total 23 columns):\n",
      " #   Column  Non-Null Count  Dtype  \n",
      "---  ------  --------------  -----  \n",
      " 0   feat0   4913 non-null   int64  \n",
      " 1   feat1   4433 non-null   float64\n",
      " 2   feat2   4913 non-null   int64  \n",
      " 3   feat3   1901 non-null   float64\n",
      " 4   feat4   4913 non-null   int64  \n",
      " 5   feat5   4913 non-null   bool   \n",
      " 6   feat6   4913 non-null   bool   \n",
      " 7   feat7   4913 non-null   bool   \n",
      " 8   feat8   4913 non-null   bool   \n",
      " 9   feat9   4913 non-null   bool   \n",
      " 10  feat10  4913 non-null   bool   \n",
      " 11  feat11  4913 non-null   bool   \n",
      " 12  feat12  4913 non-null   bool   \n",
      " 13  feat13  2590 non-null   object \n",
      " 14  feat14  2590 non-null   object \n",
      " 15  feat15  2590 non-null   object \n",
      " 16  feat16  4913 non-null   int64  \n",
      " 17  target  4913 non-null   int64  \n",
      " 18  feat18  4913 non-null   bool   \n",
      " 19  feat19  0 non-null      float64\n",
      " 20  feat20  4361 non-null   float64\n",
      " 21  feat21  4913 non-null   object \n",
      " 22  feat22  4913 non-null   int64  \n",
      "dtypes: bool(9), float64(4), int64(6), object(4)\n",
      "memory usage: 580.7+ KB\n"
     ]
    }
   ],
   "source": [
    "for i, feature in enumerate(data.columns):\n",
    "    if feature == 'price_cents':\n",
    "        data.rename(columns={'price_cents': 'target'}, inplace=True)\n",
    "    else:\n",
    "        data.rename(columns={feature: 'feat' + str(i)}, inplace=True)\n",
    "    \n",
    "data.info()"
   ]
  },
  {
   "cell_type": "markdown",
   "metadata": {},
   "source": [
    "## Numerical features EDA"
   ]
  },
  {
   "cell_type": "markdown",
   "metadata": {},
   "source": [
    "First I will explore the numerical features. With the describe() function for each feature I check the number of non-null values, the mean and variance, the minimum and maximum values and the 25%, 50% and 75% quartiles.\n",
    "\n",
    "Then I will check which features have null values."
   ]
  },
  {
   "cell_type": "code",
   "execution_count": 198,
   "metadata": {},
   "outputs": [
    {
     "data": {
      "text/html": [
       "<div>\n",
       "<style scoped>\n",
       "    .dataframe tbody tr th:only-of-type {\n",
       "        vertical-align: middle;\n",
       "    }\n",
       "\n",
       "    .dataframe tbody tr th {\n",
       "        vertical-align: top;\n",
       "    }\n",
       "\n",
       "    .dataframe thead th {\n",
       "        text-align: right;\n",
       "    }\n",
       "</style>\n",
       "<table border=\"1\" class=\"dataframe\">\n",
       "  <thead>\n",
       "    <tr style=\"text-align: right;\">\n",
       "      <th></th>\n",
       "      <th>feat0</th>\n",
       "      <th>feat1</th>\n",
       "      <th>feat2</th>\n",
       "      <th>feat3</th>\n",
       "      <th>feat4</th>\n",
       "      <th>feat16</th>\n",
       "      <th>target</th>\n",
       "      <th>feat19</th>\n",
       "      <th>feat20</th>\n",
       "      <th>feat22</th>\n",
       "    </tr>\n",
       "  </thead>\n",
       "  <tbody>\n",
       "    <tr>\n",
       "      <th>count</th>\n",
       "      <td>4913.000000</td>\n",
       "      <td>4433.000000</td>\n",
       "      <td>4913.000000</td>\n",
       "      <td>1901.000000</td>\n",
       "      <td>4913.000000</td>\n",
       "      <td>4913.000000</td>\n",
       "      <td>4913.000000</td>\n",
       "      <td>0.0</td>\n",
       "      <td>4361.000000</td>\n",
       "      <td>4913.000000</td>\n",
       "    </tr>\n",
       "    <tr>\n",
       "      <th>mean</th>\n",
       "      <td>332600.557297</td>\n",
       "      <td>24826.479134</td>\n",
       "      <td>2972.115205</td>\n",
       "      <td>4.974997</td>\n",
       "      <td>2.663342</td>\n",
       "      <td>0.540199</td>\n",
       "      <td>9.249338</td>\n",
       "      <td>NaN</td>\n",
       "      <td>5.709012</td>\n",
       "      <td>6.363729</td>\n",
       "    </tr>\n",
       "    <tr>\n",
       "      <th>std</th>\n",
       "      <td>156871.416582</td>\n",
       "      <td>13250.655792</td>\n",
       "      <td>1905.944842</td>\n",
       "      <td>0.156239</td>\n",
       "      <td>7.974833</td>\n",
       "      <td>0.766022</td>\n",
       "      <td>2.577921</td>\n",
       "      <td>NaN</td>\n",
       "      <td>3.911572</td>\n",
       "      <td>25.035256</td>\n",
       "    </tr>\n",
       "    <tr>\n",
       "      <th>min</th>\n",
       "      <td>33.000000</td>\n",
       "      <td>1001.000000</td>\n",
       "      <td>1006.000000</td>\n",
       "      <td>2.000000</td>\n",
       "      <td>0.000000</td>\n",
       "      <td>0.000000</td>\n",
       "      <td>6.000000</td>\n",
       "      <td>NaN</td>\n",
       "      <td>0.000000</td>\n",
       "      <td>0.000000</td>\n",
       "    </tr>\n",
       "    <tr>\n",
       "      <th>25%</th>\n",
       "      <td>217403.000000</td>\n",
       "      <td>8911.000000</td>\n",
       "      <td>2280.000000</td>\n",
       "      <td>5.000000</td>\n",
       "      <td>0.000000</td>\n",
       "      <td>0.000000</td>\n",
       "      <td>7.000000</td>\n",
       "      <td>NaN</td>\n",
       "      <td>0.000000</td>\n",
       "      <td>0.000000</td>\n",
       "    </tr>\n",
       "    <tr>\n",
       "      <th>50%</th>\n",
       "      <td>348972.000000</td>\n",
       "      <td>28001.000000</td>\n",
       "      <td>2430.000000</td>\n",
       "      <td>5.000000</td>\n",
       "      <td>0.000000</td>\n",
       "      <td>0.000000</td>\n",
       "      <td>9.000000</td>\n",
       "      <td>NaN</td>\n",
       "      <td>6.000000</td>\n",
       "      <td>0.000000</td>\n",
       "    </tr>\n",
       "    <tr>\n",
       "      <th>75%</th>\n",
       "      <td>484610.000000</td>\n",
       "      <td>29730.000000</td>\n",
       "      <td>3190.000000</td>\n",
       "      <td>5.000000</td>\n",
       "      <td>2.000000</td>\n",
       "      <td>1.000000</td>\n",
       "      <td>10.000000</td>\n",
       "      <td>NaN</td>\n",
       "      <td>10.000000</td>\n",
       "      <td>4.000000</td>\n",
       "    </tr>\n",
       "    <tr>\n",
       "      <th>max</th>\n",
       "      <td>550546.000000</td>\n",
       "      <td>52001.000000</td>\n",
       "      <td>31905.000000</td>\n",
       "      <td>5.000000</td>\n",
       "      <td>147.000000</td>\n",
       "      <td>6.000000</td>\n",
       "      <td>34.000000</td>\n",
       "      <td>NaN</td>\n",
       "      <td>10.000000</td>\n",
       "      <td>992.000000</td>\n",
       "    </tr>\n",
       "  </tbody>\n",
       "</table>\n",
       "</div>"
      ],
      "text/plain": [
       "               feat0         feat1         feat2        feat3        feat4  \\\n",
       "count    4913.000000   4433.000000   4913.000000  1901.000000  4913.000000   \n",
       "mean   332600.557297  24826.479134   2972.115205     4.974997     2.663342   \n",
       "std    156871.416582  13250.655792   1905.944842     0.156239     7.974833   \n",
       "min        33.000000   1001.000000   1006.000000     2.000000     0.000000   \n",
       "25%    217403.000000   8911.000000   2280.000000     5.000000     0.000000   \n",
       "50%    348972.000000  28001.000000   2430.000000     5.000000     0.000000   \n",
       "75%    484610.000000  29730.000000   3190.000000     5.000000     2.000000   \n",
       "max    550546.000000  52001.000000  31905.000000     5.000000   147.000000   \n",
       "\n",
       "            feat16       target  feat19       feat20       feat22  \n",
       "count  4913.000000  4913.000000     0.0  4361.000000  4913.000000  \n",
       "mean      0.540199     9.249338     NaN     5.709012     6.363729  \n",
       "std       0.766022     2.577921     NaN     3.911572    25.035256  \n",
       "min       0.000000     6.000000     NaN     0.000000     0.000000  \n",
       "25%       0.000000     7.000000     NaN     0.000000     0.000000  \n",
       "50%       0.000000     9.000000     NaN     6.000000     0.000000  \n",
       "75%       1.000000    10.000000     NaN    10.000000     4.000000  \n",
       "max       6.000000    34.000000     NaN    10.000000   992.000000  "
      ]
     },
     "execution_count": 198,
     "metadata": {},
     "output_type": "execute_result"
    }
   ],
   "source": [
    "data.describe()"
   ]
  },
  {
   "cell_type": "code",
   "execution_count": 199,
   "metadata": {},
   "outputs": [
    {
     "data": {
      "text/plain": [
       "feat0        0\n",
       "feat1      480\n",
       "feat2        0\n",
       "feat3     3012\n",
       "feat4        0\n",
       "feat16       0\n",
       "target       0\n",
       "feat19    4913\n",
       "feat20     552\n",
       "feat22       0\n",
       "dtype: int64"
      ]
     },
     "execution_count": 199,
     "metadata": {},
     "output_type": "execute_result"
    }
   ],
   "source": [
    "numerical_feat = data.select_dtypes(['int64', 'float64'])\n",
    "numerical_feat.isnull().sum()"
   ]
  },
  {
   "cell_type": "code",
   "execution_count": 200,
   "metadata": {},
   "outputs": [
    {
     "data": {
      "text/html": [
       "<div>\n",
       "<style scoped>\n",
       "    .dataframe tbody tr th:only-of-type {\n",
       "        vertical-align: middle;\n",
       "    }\n",
       "\n",
       "    .dataframe tbody tr th {\n",
       "        vertical-align: top;\n",
       "    }\n",
       "\n",
       "    .dataframe thead th {\n",
       "        text-align: right;\n",
       "    }\n",
       "</style>\n",
       "<table border=\"1\" class=\"dataframe\">\n",
       "  <thead>\n",
       "    <tr style=\"text-align: right;\">\n",
       "      <th></th>\n",
       "      <th>feat1</th>\n",
       "      <th>feat3</th>\n",
       "      <th>feat19</th>\n",
       "      <th>feat20</th>\n",
       "    </tr>\n",
       "  </thead>\n",
       "  <tbody>\n",
       "    <tr>\n",
       "      <th>0</th>\n",
       "      <td>15001.0</td>\n",
       "      <td>5.0</td>\n",
       "      <td>NaN</td>\n",
       "      <td>10.0</td>\n",
       "    </tr>\n",
       "    <tr>\n",
       "      <th>1</th>\n",
       "      <td>20160.0</td>\n",
       "      <td>5.0</td>\n",
       "      <td>NaN</td>\n",
       "      <td>0.0</td>\n",
       "    </tr>\n",
       "    <tr>\n",
       "      <th>2</th>\n",
       "      <td>28001.0</td>\n",
       "      <td>5.0</td>\n",
       "      <td>NaN</td>\n",
       "      <td>0.0</td>\n",
       "    </tr>\n",
       "    <tr>\n",
       "      <th>3</th>\n",
       "      <td>28001.0</td>\n",
       "      <td>5.0</td>\n",
       "      <td>NaN</td>\n",
       "      <td>0.0</td>\n",
       "    </tr>\n",
       "    <tr>\n",
       "      <th>4</th>\n",
       "      <td>28850.0</td>\n",
       "      <td>5.0</td>\n",
       "      <td>NaN</td>\n",
       "      <td>0.0</td>\n",
       "    </tr>\n",
       "    <tr>\n",
       "      <th>...</th>\n",
       "      <td>...</td>\n",
       "      <td>...</td>\n",
       "      <td>...</td>\n",
       "      <td>...</td>\n",
       "    </tr>\n",
       "    <tr>\n",
       "      <th>4908</th>\n",
       "      <td>8001.0</td>\n",
       "      <td>NaN</td>\n",
       "      <td>NaN</td>\n",
       "      <td>10.0</td>\n",
       "    </tr>\n",
       "    <tr>\n",
       "      <th>4909</th>\n",
       "      <td>28001.0</td>\n",
       "      <td>NaN</td>\n",
       "      <td>NaN</td>\n",
       "      <td>10.0</td>\n",
       "    </tr>\n",
       "    <tr>\n",
       "      <th>4910</th>\n",
       "      <td>21004.0</td>\n",
       "      <td>NaN</td>\n",
       "      <td>NaN</td>\n",
       "      <td>10.0</td>\n",
       "    </tr>\n",
       "    <tr>\n",
       "      <th>4911</th>\n",
       "      <td>36201.0</td>\n",
       "      <td>NaN</td>\n",
       "      <td>NaN</td>\n",
       "      <td>10.0</td>\n",
       "    </tr>\n",
       "    <tr>\n",
       "      <th>4912</th>\n",
       "      <td>8902.0</td>\n",
       "      <td>NaN</td>\n",
       "      <td>NaN</td>\n",
       "      <td>10.0</td>\n",
       "    </tr>\n",
       "  </tbody>\n",
       "</table>\n",
       "<p>4913 rows × 4 columns</p>\n",
       "</div>"
      ],
      "text/plain": [
       "        feat1  feat3  feat19  feat20\n",
       "0     15001.0    5.0     NaN    10.0\n",
       "1     20160.0    5.0     NaN     0.0\n",
       "2     28001.0    5.0     NaN     0.0\n",
       "3     28001.0    5.0     NaN     0.0\n",
       "4     28850.0    5.0     NaN     0.0\n",
       "...       ...    ...     ...     ...\n",
       "4908   8001.0    NaN     NaN    10.0\n",
       "4909  28001.0    NaN     NaN    10.0\n",
       "4910  21004.0    NaN     NaN    10.0\n",
       "4911  36201.0    NaN     NaN    10.0\n",
       "4912   8902.0    NaN     NaN    10.0\n",
       "\n",
       "[4913 rows x 4 columns]"
      ]
     },
     "execution_count": 200,
     "metadata": {},
     "output_type": "execute_result"
    }
   ],
   "source": [
    "numerical_feat.loc[:,numerical_feat.isna().any()]"
   ]
  },
  {
   "cell_type": "markdown",
   "metadata": {},
   "source": [
    "I'll remove column feat19 because all its values are null.\n",
    "\n",
    "I'll convert column feat1 from float to string because the data type is not really numeric. I'll also standardize the number of characters by adding a 0 in front of the values with less characters."
   ]
  },
  {
   "cell_type": "code",
   "execution_count": 201,
   "metadata": {},
   "outputs": [],
   "source": [
    "# feat19\n",
    "data.drop('feat19', axis=1, inplace=True)\n",
    "\n",
    "# feat1\n",
    "data.dropna(subset=['feat1'], inplace=True)\n",
    "data['feat1'] = data['feat1'].astype(int).astype(str)\n",
    "data['feat1'] = data['feat1'].apply(lambda x: x.zfill(5))"
   ]
  },
  {
   "cell_type": "markdown",
   "metadata": {},
   "source": [
    "I proceed to analyze feat3 and feat20 features."
   ]
  },
  {
   "cell_type": "code",
   "execution_count": 178,
   "metadata": {},
   "outputs": [
    {
     "name": "stdout",
     "output_type": "stream",
     "text": [
      "feat3 unique [5.   4.93  nan 4.95 4.92 4.75 4.96 4.97 4.99 4.8  3.33 4.98 4.2  4.67\n",
      " 4.9  4.94 4.85 4.89 4.83 4.87 4.88 4.91 4.82 4.   4.5  4.86 4.71 4.78\n",
      " 3.   4.33 2.  ]\n",
      "\n",
      " feat20 unique [10.  0. nan  6.  7.]\n"
     ]
    }
   ],
   "source": [
    "# feat3 unique\n",
    "print('feat3 unique',data['feat3'].unique())\n",
    "# feat20 unique\n",
    "print('\\n feat20 unique',data['feat20'].unique())"
   ]
  },
  {
   "cell_type": "markdown",
   "metadata": {},
   "source": [
    "To improve the quality of the data and improve the prediction, I'll convert the values of the two features to integer and replace the null values by 0."
   ]
  },
  {
   "cell_type": "code",
   "execution_count": 179,
   "metadata": {},
   "outputs": [
    {
     "name": "stdout",
     "output_type": "stream",
     "text": [
      "feat0     0\n",
      "feat2     0\n",
      "feat3     0\n",
      "feat4     0\n",
      "feat16    0\n",
      "target    0\n",
      "feat20    0\n",
      "feat22    0\n",
      "dtype: int64\n",
      "\n",
      "Original Shape (4913, 23)\n",
      "New Shape (4433, 22)\n",
      "Difference (-480, -1)\n"
     ]
    }
   ],
   "source": [
    "def float_clean(column):\n",
    "    data[column].fillna(float(0), inplace=True)\n",
    "    data[column] = data[column].apply(lambda x: int(x))\n",
    "\n",
    "for column in ['feat3', 'feat20']:\n",
    "    float_clean(column)\n",
    "    \n",
    "numerical_feat = data.select_dtypes(['int64', 'float64'])\n",
    "print(numerical_feat.isnull().sum())\n",
    "print('\\nOriginal Shape', original_shape)\n",
    "print('New Shape', data.shape)\n",
    "print('Difference', str((data.shape[0] - original_shape[0], data.shape[1] - original_shape[1])))"
   ]
  },
  {
   "cell_type": "markdown",
   "metadata": {},
   "source": [
    "After cleaning and working out the null values of the features, the shape of the dataset has 480 rows and 1 feature less."
   ]
  },
  {
   "cell_type": "markdown",
   "metadata": {},
   "source": [
    "I am going to visualize first the distribution of the numeric columns, and then I am going to visualize how they are related to the target."
   ]
  },
  {
   "cell_type": "code",
   "execution_count": 180,
   "metadata": {},
   "outputs": [
    {
     "data": {
      "image/png": "[encoded data removed]",
      "text/plain": [
       "<Figure size 1008x1008 with 9 Axes>"
      ]
     },
     "metadata": {
      "needs_background": "dark"
     },
     "output_type": "display_data"
    }
   ],
   "source": [
    "fig, ax = plt.subplots(3,3, figsize=(14,14))\n",
    "ax = ax.flatten()\n",
    "for i, feature in enumerate(data.select_dtypes(include=['int64', 'float64']).columns):\n",
    "    ax[i].hist(x=data[feature])\n",
    "    ax[i].set_title(feature)\n",
    "\n",
    "ax[-1].axis('off')\n",
    "\n",
    "plt.show()"
   ]
  },
  {
   "cell_type": "code",
   "execution_count": 181,
   "metadata": {},
   "outputs": [
    {
     "data": {
      "image/png": "[encoded data removed]",
      "text/plain": [
       "<Figure size 1008x1008 with 9 Axes>"
      ]
     },
     "metadata": {
      "needs_background": "dark"
     },
     "output_type": "display_data"
    }
   ],
   "source": [
    "fig, ax = plt.subplots(3,3, figsize=(14,14))\n",
    "ax = ax.flatten()\n",
    "for i, feature in enumerate(data.select_dtypes(include=['int', 'float']).columns):\n",
    "    ax[i].scatter(x=data[feature], y=data['target'])\n",
    "    ax[i].set_title(feature)\n",
    "    ax[i].set_ylabel('target')\n",
    "\n",
    "ax[-1].axis('off')\n",
    "\n",
    "plt.show()"
   ]
  },
  {
   "cell_type": "markdown",
   "metadata": {},
   "source": [
    "It can be seen that there is hardly any positive or negative correlation between the numeric features and the target. In particular the feat0 columns do not show any correlation pattern, it is a feature with the sample identifier. I am going to remove it. The rest of the features do not correlate with the target but at least they show some pattern. I can also see that the target has some outliers that I will analyze later."
   ]
  },
  {
   "cell_type": "code",
   "execution_count": 182,
   "metadata": {},
   "outputs": [],
   "source": [
    "# Elimino columna id\n",
    "data.drop('feat0', axis=1, inplace=True)"
   ]
  },
  {
   "cell_type": "markdown",
   "metadata": {},
   "source": [
    "The correlation map helps to see how columns relate both positively and negatively to the target and to other columns. I can then determine which columns affect the target the most and which columns are related to each other and I can work with them to optimize the model."
   ]
  },
  {
   "cell_type": "code",
   "execution_count": 183,
   "metadata": {},
   "outputs": [
    {
     "data": {
      "image/png": "[encoded data removed]",
      "text/plain": [
       "<Figure size 720x576 with 2 Axes>"
      ]
     },
     "metadata": {
      "needs_background": "dark"
     },
     "output_type": "display_data"
    }
   ],
   "source": [
    "corrs = data.select_dtypes(include=['int', 'float']).corr()\n",
    "plt.figure(figsize=(10,8))\n",
    "sns.heatmap(corrs, cmap='RdBu_r', annot=True)\n",
    "plt.show()"
   ]
  },
  {
   "cell_type": "markdown",
   "metadata": {},
   "source": [
    "There is no column with a significant correlation with the target. Among the columns there is a strong positive correlation between feat2 and feat4. There is also a positive correlation between feat22 and feat2 and between feat22 and feat4. Let's show information from these columns."
   ]
  },
  {
   "cell_type": "code",
   "execution_count": 184,
   "metadata": {},
   "outputs": [
    {
     "name": "stdout",
     "output_type": "stream",
     "text": [
      "      feat2  feat4  feat22\n",
      "0      4725      9      26\n",
      "1      5400     11       6\n",
      "2      3580      4       3\n",
      "3      3595      1       1\n",
      "4     20620     77      53\n",
      "...     ...    ...     ...\n",
      "4908   3650      0       0\n",
      "4909   4210      0       0\n",
      "4910   3930      0       0\n",
      "4911   2545      0       0\n",
      "4912   4010      0       0\n",
      "\n",
      "[4433 rows x 3 columns]\n"
     ]
    }
   ],
   "source": [
    "high_corr = data[['feat2', 'feat4', 'feat22']]\n",
    "print(high_corr)"
   ]
  },
  {
   "cell_type": "markdown",
   "metadata": {},
   "source": [
    "feat2 is a metric that encompasses the values of feat4 and feat22 among other variables. I will stick to the feat2 column only."
   ]
  },
  {
   "cell_type": "code",
   "execution_count": 185,
   "metadata": {},
   "outputs": [],
   "source": [
    "data.drop(['feat4', 'feat22'], axis=1, inplace=True)"
   ]
  },
  {
   "cell_type": "markdown",
   "metadata": {},
   "source": [
    "## Non Numerical features EDA"
   ]
  },
  {
   "cell_type": "markdown",
   "metadata": {},
   "source": [
    "All features are boolean except feat21 which is a dictionary. Let's unpack that dictionary and create a column for each key."
   ]
  },
  {
   "cell_type": "code",
   "execution_count": 147,
   "metadata": {},
   "outputs": [
    {
     "name": "stdout",
     "output_type": "stream",
     "text": [
      "       feat5 feat6 feat7  feat8 feat9 feat10 feat11 feat12 feat13 feat14  \\\n",
      "count   4433  4433  4433   4433  4433   4433   4433   4433   2312   2312   \n",
      "unique     2     2     2      2     2      2      2      2      1      2   \n",
      "top     True  True  True  False  True   True   True   True  False  False   \n",
      "freq    4123  3155  2660   2740  2395   3100   4073   3524   2312   2226   \n",
      "\n",
      "       feat15 feat18 feat21_0 feat21_1 feat21_2 feat21_3 feat21_4  \n",
      "count    2312   4433     4433     4433     4433     4433     4433  \n",
      "unique      2      1        2        2        2        2        2  \n",
      "top     False  False     True     True     True     True     True  \n",
      "freq     2282   4433     3677     3928     4375     4006     3999  \n"
     ]
    }
   ],
   "source": [
    "data['feat21'] = data['feat21'].apply(json.loads)\n",
    "data = pd.concat([data, data['feat21'].apply(pd.Series)], axis=1)\n",
    "data.drop(['feat21'], axis=1, inplace=True)\n",
    "\n",
    "for i, name in enumerate(data.columns[-5:]):\n",
    "    data.rename(columns={name: str('feat21_' + str(i))}, inplace=True)\n",
    "    \n",
    "non_numerical_describe = data.describe(exclude=['int64', 'float64']).drop('feat1', axis=1)\n",
    "print(non_numerical_describe)"
   ]
  },
  {
   "cell_type": "markdown",
   "metadata": {},
   "source": [
    "It can be seen that features feat13, feat14 and feat15 have 2312 as opposed to 4433 in the rest of the features. Let's see how many null values there are in the non-numeric features."
   ]
  },
  {
   "cell_type": "code",
   "execution_count": 148,
   "metadata": {},
   "outputs": [
    {
     "data": {
      "text/plain": [
       "feat1          0\n",
       "feat5          0\n",
       "feat6          0\n",
       "feat7          0\n",
       "feat8          0\n",
       "feat9          0\n",
       "feat10         0\n",
       "feat11         0\n",
       "feat12         0\n",
       "feat13      2121\n",
       "feat14      2121\n",
       "feat15      2121\n",
       "feat18         0\n",
       "feat21_0       0\n",
       "feat21_1       0\n",
       "feat21_2       0\n",
       "feat21_3       0\n",
       "feat21_4       0\n",
       "dtype: int64"
      ]
     },
     "execution_count": 148,
     "metadata": {},
     "output_type": "execute_result"
    }
   ],
   "source": [
    "data.select_dtypes(exclude=['int64', 'float64']).isnull().sum()"
   ]
  },
  {
   "cell_type": "markdown",
   "metadata": {},
   "source": [
    "As there are 2121 null values in the those features I'll remove them."
   ]
  },
  {
   "cell_type": "code",
   "execution_count": 149,
   "metadata": {},
   "outputs": [
    {
     "name": "stdout",
     "output_type": "stream",
     "text": [
      "feat1       0\n",
      "feat5       0\n",
      "feat6       0\n",
      "feat7       0\n",
      "feat8       0\n",
      "feat9       0\n",
      "feat10      0\n",
      "feat11      0\n",
      "feat12      0\n",
      "feat18      0\n",
      "feat21_0    0\n",
      "feat21_1    0\n",
      "feat21_2    0\n",
      "feat21_3    0\n",
      "feat21_4    0\n",
      "dtype: int64\n"
     ]
    }
   ],
   "source": [
    "data.drop(['feat13', 'feat14', 'feat15'], axis=1, inplace=True)\n",
    "print(data.select_dtypes(exclude=['int64', 'float64']).isnull().sum())"
   ]
  },
  {
   "cell_type": "markdown",
   "metadata": {},
   "source": [
    "To see the percentage that occupies the majority value of each boolean feature, we create a new row in the describe(). In it we can see which features provide poor information by containing 80% or 90% of True or False values."
   ]
  },
  {
   "cell_type": "code",
   "execution_count": 150,
   "metadata": {},
   "outputs": [
    {
     "data": {
      "text/html": [
       "<div>\n",
       "<style scoped>\n",
       "    .dataframe tbody tr th:only-of-type {\n",
       "        vertical-align: middle;\n",
       "    }\n",
       "\n",
       "    .dataframe tbody tr th {\n",
       "        vertical-align: top;\n",
       "    }\n",
       "\n",
       "    .dataframe thead th {\n",
       "        text-align: right;\n",
       "    }\n",
       "</style>\n",
       "<table border=\"1\" class=\"dataframe\">\n",
       "  <thead>\n",
       "    <tr style=\"text-align: right;\">\n",
       "      <th></th>\n",
       "      <th>feat5</th>\n",
       "      <th>feat6</th>\n",
       "      <th>feat7</th>\n",
       "      <th>feat8</th>\n",
       "      <th>feat9</th>\n",
       "      <th>feat10</th>\n",
       "      <th>feat11</th>\n",
       "      <th>feat12</th>\n",
       "      <th>feat18</th>\n",
       "      <th>feat21_0</th>\n",
       "      <th>feat21_1</th>\n",
       "      <th>feat21_2</th>\n",
       "      <th>feat21_3</th>\n",
       "      <th>feat21_4</th>\n",
       "    </tr>\n",
       "  </thead>\n",
       "  <tbody>\n",
       "    <tr>\n",
       "      <th>count</th>\n",
       "      <td>4433</td>\n",
       "      <td>4433</td>\n",
       "      <td>4433</td>\n",
       "      <td>4433</td>\n",
       "      <td>4433</td>\n",
       "      <td>4433</td>\n",
       "      <td>4433</td>\n",
       "      <td>4433</td>\n",
       "      <td>4433</td>\n",
       "      <td>4433</td>\n",
       "      <td>4433</td>\n",
       "      <td>4433</td>\n",
       "      <td>4433</td>\n",
       "      <td>4433</td>\n",
       "    </tr>\n",
       "    <tr>\n",
       "      <th>unique</th>\n",
       "      <td>2</td>\n",
       "      <td>2</td>\n",
       "      <td>2</td>\n",
       "      <td>2</td>\n",
       "      <td>2</td>\n",
       "      <td>2</td>\n",
       "      <td>2</td>\n",
       "      <td>2</td>\n",
       "      <td>1</td>\n",
       "      <td>2</td>\n",
       "      <td>2</td>\n",
       "      <td>2</td>\n",
       "      <td>2</td>\n",
       "      <td>2</td>\n",
       "    </tr>\n",
       "    <tr>\n",
       "      <th>top</th>\n",
       "      <td>True</td>\n",
       "      <td>True</td>\n",
       "      <td>True</td>\n",
       "      <td>False</td>\n",
       "      <td>True</td>\n",
       "      <td>True</td>\n",
       "      <td>True</td>\n",
       "      <td>True</td>\n",
       "      <td>False</td>\n",
       "      <td>True</td>\n",
       "      <td>True</td>\n",
       "      <td>True</td>\n",
       "      <td>True</td>\n",
       "      <td>True</td>\n",
       "    </tr>\n",
       "    <tr>\n",
       "      <th>freq</th>\n",
       "      <td>4123</td>\n",
       "      <td>3155</td>\n",
       "      <td>2660</td>\n",
       "      <td>2740</td>\n",
       "      <td>2395</td>\n",
       "      <td>3100</td>\n",
       "      <td>4073</td>\n",
       "      <td>3524</td>\n",
       "      <td>4433</td>\n",
       "      <td>3677</td>\n",
       "      <td>3928</td>\n",
       "      <td>4375</td>\n",
       "      <td>4006</td>\n",
       "      <td>3999</td>\n",
       "    </tr>\n",
       "    <tr>\n",
       "      <th>percentage</th>\n",
       "      <td>0.93007</td>\n",
       "      <td>0.711708</td>\n",
       "      <td>0.600045</td>\n",
       "      <td>0.618092</td>\n",
       "      <td>0.540266</td>\n",
       "      <td>0.699301</td>\n",
       "      <td>0.918791</td>\n",
       "      <td>0.794947</td>\n",
       "      <td>1</td>\n",
       "      <td>0.829461</td>\n",
       "      <td>0.886082</td>\n",
       "      <td>0.986916</td>\n",
       "      <td>0.903677</td>\n",
       "      <td>0.902098</td>\n",
       "    </tr>\n",
       "  </tbody>\n",
       "</table>\n",
       "</div>"
      ],
      "text/plain": [
       "              feat5     feat6     feat7     feat8     feat9    feat10  \\\n",
       "count          4433      4433      4433      4433      4433      4433   \n",
       "unique            2         2         2         2         2         2   \n",
       "top            True      True      True     False      True      True   \n",
       "freq           4123      3155      2660      2740      2395      3100   \n",
       "percentage  0.93007  0.711708  0.600045  0.618092  0.540266  0.699301   \n",
       "\n",
       "              feat11    feat12 feat18  feat21_0  feat21_1  feat21_2  feat21_3  \\\n",
       "count           4433      4433   4433      4433      4433      4433      4433   \n",
       "unique             2         2      1         2         2         2         2   \n",
       "top             True      True  False      True      True      True      True   \n",
       "freq            4073      3524   4433      3677      3928      4375      4006   \n",
       "percentage  0.918791  0.794947      1  0.829461  0.886082  0.986916  0.903677   \n",
       "\n",
       "            feat21_4  \n",
       "count           4433  \n",
       "unique             2  \n",
       "top             True  \n",
       "freq            3999  \n",
       "percentage  0.902098  "
      ]
     },
     "execution_count": 150,
     "metadata": {},
     "output_type": "execute_result"
    }
   ],
   "source": [
    "non_numerical_describe = data.describe(exclude=['int64', 'float64']).drop('feat1', axis=1)\n",
    "non_numerical_describe.append(pd.Series(non_numerical_describe.loc['freq'] / non_numerical_describe.loc['count'], name='percentage'))"
   ]
  },
  {
   "cell_type": "markdown",
   "metadata": {},
   "source": [
    "Almost all boolean features have a dominant value percentage (True or False) of more than 80%. It means that they hardly provide any information to predict the target. We have to look at the average value of the target divided between True and False for each boolean feature to determine whether it is worthwhile not to delete these features."
   ]
  },
  {
   "cell_type": "code",
   "execution_count": 151,
   "metadata": {},
   "outputs": [
    {
     "data": {
      "image/png": "[encoded data removed]",
      "text/plain": [
       "<Figure size 1440x1440 with 15 Axes>"
      ]
     },
     "metadata": {
      "needs_background": "dark"
     },
     "output_type": "display_data"
    }
   ],
   "source": [
    "fig, axes = plt.subplots(5,3, figsize=(20,20))\n",
    "\n",
    "axes = axes.flatten()\n",
    "\n",
    "for i, column in enumerate(data.select_dtypes('bool')):\n",
    "    sns.barplot(ax=axes[i],x=data.groupby(column)['target'].mean().index,\n",
    "                y=data.groupby(column)['target'].mean().values)\n",
    "    \n",
    "    axes[i].set_xticks(data.groupby(column)['target'].mean().index)\n",
    "    axes[i].set_title(label = column, loc='center')\n",
    "    axes[i].set_xlabel('')\n",
    "    axes[i].yaxis.set_visible(False)\n",
    "    \n",
    "axes[-1].axis('off')\n",
    "\n",
    "plt.tight_layout\n",
    "\n",
    "plt.show()"
   ]
  },
  {
   "cell_type": "markdown",
   "metadata": {},
   "source": [
    "I see that the mean of the target for the examples with True and False values is practically the same. This means that in features that have a 10% minority category (True or False), that 10% does not help to better predict the target.\n",
    "\n",
    "I'll remove features feat18 because it contains all False."
   ]
  },
  {
   "cell_type": "code",
   "execution_count": 152,
   "metadata": {},
   "outputs": [],
   "source": [
    "data.drop('feat18', axis=1, inplace=True)"
   ]
  },
  {
   "cell_type": "markdown",
   "metadata": {},
   "source": [
    "## Target EDA"
   ]
  },
  {
   "cell_type": "markdown",
   "metadata": {},
   "source": [
    "I will analyze the possible outliers contained in the target."
   ]
  },
  {
   "cell_type": "code",
   "execution_count": 153,
   "metadata": {},
   "outputs": [
    {
     "data": {
      "image/png": "[encoded data removed]",
      "text/plain": [
       "<Figure size 720x288 with 1 Axes>"
      ]
     },
     "metadata": {
      "needs_background": "dark"
     },
     "output_type": "display_data"
    }
   ],
   "source": [
    "fig, ax = plt.subplots(figsize=(10,4))\n",
    "\n",
    "sns.boxplot(data=data['target'], orient='h')\n",
    "ax.xaxis.set_visible(False)\n",
    "ax.yaxis.set_visible(False)\n",
    "\n",
    "plt.show()"
   ]
  },
  {
   "cell_type": "markdown",
   "metadata": {},
   "source": [
    "There are quite a few ouliers. I am going to remove those rows with outliers to improve the prediction. To do this I will create a function to calculate the quartiles Q1, Q2, Q3, and the IQR to find the outliers below the minimum and maximum."
   ]
  },
  {
   "cell_type": "code",
   "execution_count": 154,
   "metadata": {},
   "outputs": [
    {
     "name": "stdout",
     "output_type": "stream",
     "text": [
      "Total Outliers Removed 199\n"
     ]
    }
   ],
   "source": [
    "def outliers(dataset, column):\n",
    "    Q1 = np.percentile(dataset[column], 25)\n",
    "    Q2 = np.percentile(dataset[column], 50)\n",
    "    Q3 = np.percentile(dataset[column], 75)\n",
    "\n",
    "    IQR = Q3 - Q1\n",
    "    \n",
    "    Min = Q1 - 1.5 * IQR\n",
    "    Max = Q3 + 1.5 * IQR\n",
    "\n",
    "    outliers = []\n",
    "    for value in dataset[column]:\n",
    "        if value < Min or value > Max:\n",
    "            outliers.append(value)\n",
    "    print('Total Outliers Removed',len(outliers))\n",
    "\n",
    "    return outliers\n",
    "\n",
    "\n",
    "outliers_price = list(outliers(data, 'target'))\n",
    "\n",
    "for out in outliers_price:\n",
    "    data.drop(data[data['target'] == out].index, inplace=True)"
   ]
  },
  {
   "cell_type": "markdown",
   "metadata": {},
   "source": [
    "## A little preprocessing"
   ]
  },
  {
   "cell_type": "markdown",
   "metadata": {},
   "source": [
    "The algorithm we use to predict the target must be given the data in such a way that it can interprest it well.\n",
    "\n",
    "For this I am going to do a one hot encoding to the features feat1 and feat3. feat1 is a column string and feat3 is a rank. In both cases we will create a new feautures for each unique value. New dataset shape will have 73 features."
   ]
  },
  {
   "cell_type": "code",
   "execution_count": 155,
   "metadata": {},
   "outputs": [
    {
     "name": "stdout",
     "output_type": "stream",
     "text": [
      "Shape after one hot (4234, 73)\n"
     ]
    }
   ],
   "source": [
    "# feat1 feature enginnering\n",
    "data['feat1'] = data['feat1'].str[:2]\n",
    "\n",
    "# get_dummies a feat1 y feat3\n",
    "data[['feat1', 'feat3']] = data[['feat1', 'feat3']].astype('str')\n",
    "data = pd.get_dummies(data)\n",
    "\n",
    "print('Shape after one hot',data.shape)"
   ]
  },
  {
   "cell_type": "markdown",
   "metadata": {},
   "source": [
    "I will modify the boolean columns by converting the values True and False to 1 and 0 with a label encoder."
   ]
  },
  {
   "cell_type": "code",
   "execution_count": 156,
   "metadata": {},
   "outputs": [],
   "source": [
    "# Label encoding features booleanas\n",
    "for column in data:\n",
    "    if data[column].dtype == 'bool':\n",
    "        data[column].replace([True, False], [1, 0], inplace=True)"
   ]
  },
  {
   "cell_type": "markdown",
   "metadata": {},
   "source": [
    "To give the algorithm that we use the standardized values, we will scale the values of all the columns except the target, between 0 and 1. The difference in scale between the features is worsens the learning and prediction of the model."
   ]
  },
  {
   "cell_type": "code",
   "execution_count": 157,
   "metadata": {},
   "outputs": [
    {
     "data": {
      "text/html": [
       "<div>\n",
       "<style scoped>\n",
       "    .dataframe tbody tr th:only-of-type {\n",
       "        vertical-align: middle;\n",
       "    }\n",
       "\n",
       "    .dataframe tbody tr th {\n",
       "        vertical-align: top;\n",
       "    }\n",
       "\n",
       "    .dataframe thead th {\n",
       "        text-align: right;\n",
       "    }\n",
       "</style>\n",
       "<table border=\"1\" class=\"dataframe\">\n",
       "  <thead>\n",
       "    <tr style=\"text-align: right;\">\n",
       "      <th></th>\n",
       "      <th>feat2</th>\n",
       "      <th>feat5</th>\n",
       "      <th>feat6</th>\n",
       "      <th>feat7</th>\n",
       "      <th>feat8</th>\n",
       "      <th>feat9</th>\n",
       "      <th>feat10</th>\n",
       "      <th>feat11</th>\n",
       "      <th>feat12</th>\n",
       "      <th>feat16</th>\n",
       "      <th>...</th>\n",
       "      <th>feat1_47</th>\n",
       "      <th>feat1_48</th>\n",
       "      <th>feat1_49</th>\n",
       "      <th>feat1_50</th>\n",
       "      <th>feat1_52</th>\n",
       "      <th>feat3_0</th>\n",
       "      <th>feat3_2</th>\n",
       "      <th>feat3_3</th>\n",
       "      <th>feat3_4</th>\n",
       "      <th>feat3_5</th>\n",
       "    </tr>\n",
       "  </thead>\n",
       "  <tbody>\n",
       "    <tr>\n",
       "      <th>0</th>\n",
       "      <td>0.120360</td>\n",
       "      <td>1.0</td>\n",
       "      <td>1.0</td>\n",
       "      <td>1.0</td>\n",
       "      <td>1.0</td>\n",
       "      <td>0.0</td>\n",
       "      <td>0.0</td>\n",
       "      <td>1.0</td>\n",
       "      <td>1.0</td>\n",
       "      <td>0.333333</td>\n",
       "      <td>...</td>\n",
       "      <td>0.0</td>\n",
       "      <td>0.0</td>\n",
       "      <td>0.0</td>\n",
       "      <td>0.0</td>\n",
       "      <td>0.0</td>\n",
       "      <td>0.0</td>\n",
       "      <td>0.0</td>\n",
       "      <td>0.0</td>\n",
       "      <td>0.0</td>\n",
       "      <td>1.0</td>\n",
       "    </tr>\n",
       "    <tr>\n",
       "      <th>1</th>\n",
       "      <td>0.142205</td>\n",
       "      <td>1.0</td>\n",
       "      <td>1.0</td>\n",
       "      <td>0.0</td>\n",
       "      <td>0.0</td>\n",
       "      <td>0.0</td>\n",
       "      <td>1.0</td>\n",
       "      <td>1.0</td>\n",
       "      <td>1.0</td>\n",
       "      <td>0.000000</td>\n",
       "      <td>...</td>\n",
       "      <td>0.0</td>\n",
       "      <td>0.0</td>\n",
       "      <td>0.0</td>\n",
       "      <td>0.0</td>\n",
       "      <td>0.0</td>\n",
       "      <td>0.0</td>\n",
       "      <td>0.0</td>\n",
       "      <td>0.0</td>\n",
       "      <td>0.0</td>\n",
       "      <td>1.0</td>\n",
       "    </tr>\n",
       "    <tr>\n",
       "      <th>2</th>\n",
       "      <td>0.083304</td>\n",
       "      <td>1.0</td>\n",
       "      <td>1.0</td>\n",
       "      <td>1.0</td>\n",
       "      <td>0.0</td>\n",
       "      <td>0.0</td>\n",
       "      <td>1.0</td>\n",
       "      <td>1.0</td>\n",
       "      <td>1.0</td>\n",
       "      <td>0.166667</td>\n",
       "      <td>...</td>\n",
       "      <td>0.0</td>\n",
       "      <td>0.0</td>\n",
       "      <td>0.0</td>\n",
       "      <td>0.0</td>\n",
       "      <td>0.0</td>\n",
       "      <td>0.0</td>\n",
       "      <td>0.0</td>\n",
       "      <td>0.0</td>\n",
       "      <td>0.0</td>\n",
       "      <td>1.0</td>\n",
       "    </tr>\n",
       "    <tr>\n",
       "      <th>3</th>\n",
       "      <td>0.083789</td>\n",
       "      <td>1.0</td>\n",
       "      <td>1.0</td>\n",
       "      <td>1.0</td>\n",
       "      <td>1.0</td>\n",
       "      <td>0.0</td>\n",
       "      <td>1.0</td>\n",
       "      <td>1.0</td>\n",
       "      <td>1.0</td>\n",
       "      <td>0.000000</td>\n",
       "      <td>...</td>\n",
       "      <td>0.0</td>\n",
       "      <td>0.0</td>\n",
       "      <td>0.0</td>\n",
       "      <td>0.0</td>\n",
       "      <td>0.0</td>\n",
       "      <td>0.0</td>\n",
       "      <td>0.0</td>\n",
       "      <td>0.0</td>\n",
       "      <td>0.0</td>\n",
       "      <td>1.0</td>\n",
       "    </tr>\n",
       "    <tr>\n",
       "      <th>4</th>\n",
       "      <td>0.634778</td>\n",
       "      <td>1.0</td>\n",
       "      <td>1.0</td>\n",
       "      <td>1.0</td>\n",
       "      <td>1.0</td>\n",
       "      <td>0.0</td>\n",
       "      <td>1.0</td>\n",
       "      <td>1.0</td>\n",
       "      <td>1.0</td>\n",
       "      <td>0.166667</td>\n",
       "      <td>...</td>\n",
       "      <td>0.0</td>\n",
       "      <td>0.0</td>\n",
       "      <td>0.0</td>\n",
       "      <td>0.0</td>\n",
       "      <td>0.0</td>\n",
       "      <td>0.0</td>\n",
       "      <td>0.0</td>\n",
       "      <td>0.0</td>\n",
       "      <td>0.0</td>\n",
       "      <td>1.0</td>\n",
       "    </tr>\n",
       "  </tbody>\n",
       "</table>\n",
       "<p>5 rows × 73 columns</p>\n",
       "</div>"
      ],
      "text/plain": [
       "      feat2  feat5  feat6  feat7  feat8  feat9  feat10  feat11  feat12  \\\n",
       "0  0.120360    1.0    1.0    1.0    1.0    0.0     0.0     1.0     1.0   \n",
       "1  0.142205    1.0    1.0    0.0    0.0    0.0     1.0     1.0     1.0   \n",
       "2  0.083304    1.0    1.0    1.0    0.0    0.0     1.0     1.0     1.0   \n",
       "3  0.083789    1.0    1.0    1.0    1.0    0.0     1.0     1.0     1.0   \n",
       "4  0.634778    1.0    1.0    1.0    1.0    0.0     1.0     1.0     1.0   \n",
       "\n",
       "     feat16  ...  feat1_47  feat1_48  feat1_49  feat1_50  feat1_52  feat3_0  \\\n",
       "0  0.333333  ...       0.0       0.0       0.0       0.0       0.0      0.0   \n",
       "1  0.000000  ...       0.0       0.0       0.0       0.0       0.0      0.0   \n",
       "2  0.166667  ...       0.0       0.0       0.0       0.0       0.0      0.0   \n",
       "3  0.000000  ...       0.0       0.0       0.0       0.0       0.0      0.0   \n",
       "4  0.166667  ...       0.0       0.0       0.0       0.0       0.0      0.0   \n",
       "\n",
       "   feat3_2  feat3_3  feat3_4  feat3_5  \n",
       "0      0.0      0.0      0.0      1.0  \n",
       "1      0.0      0.0      0.0      1.0  \n",
       "2      0.0      0.0      0.0      1.0  \n",
       "3      0.0      0.0      0.0      1.0  \n",
       "4      0.0      0.0      0.0      1.0  \n",
       "\n",
       "[5 rows x 73 columns]"
      ]
     },
     "execution_count": 157,
     "metadata": {},
     "output_type": "execute_result"
    }
   ],
   "source": [
    "scaler = MinMaxScaler()\n",
    "data.loc[:, data.columns != 'target'] = scaler.fit_transform(data.loc[:, data.columns != 'target'])\n",
    "\n",
    "data.head()"
   ]
  },
  {
   "cell_type": "markdown",
   "metadata": {
    "heading_collapsed": true
   },
   "source": [
    "## Random Forest"
   ]
  },
  {
   "cell_type": "markdown",
   "metadata": {
    "hidden": true
   },
   "source": [
    "In the exploratory analysis of the data I have seen that the model is not linear, so I will have to use a prediction algorithm other than Linear Regression such as Random Forest.\n",
    "\n",
    "First I will divide the dataset between the features that we are going to use to learn and predict the target (X) and the target variable (y)."
   ]
  },
  {
   "cell_type": "code",
   "execution_count": 158,
   "metadata": {
    "hidden": true
   },
   "outputs": [],
   "source": [
    "X = data.loc[:, data.columns != 'target'].values\n",
    "y = data['target'].values"
   ]
  },
  {
   "cell_type": "markdown",
   "metadata": {
    "hidden": true
   },
   "source": [
    "To get a good prediction it's necessary to properly prepare the dataset to give to the algorithm and tune the parameters of the learning algorithm to avoid underfitting and overfitting. Ensemble learning algorithms tend to create overfitting, which means that they overtrain and are not able to generalize to predict new data.\n",
    "\n",
    "To find the optimal parameters I will use GridSearchCV from the sklearn library, which allows to obtain the best combination of algorithm parameters to get the best score."
   ]
  },
  {
   "cell_type": "code",
   "execution_count": 165,
   "metadata": {
    "hidden": true
   },
   "outputs": [
    {
     "name": "stdout",
     "output_type": "stream",
     "text": [
      "Fitting 3 folds for each of 198 candidates, totalling 594 fits\n"
     ]
    },
    {
     "name": "stderr",
     "output_type": "stream",
     "text": [
      "[Parallel(n_jobs=-1)]: Using backend LokyBackend with 4 concurrent workers.\n",
      "[Parallel(n_jobs=-1)]: Done  24 tasks      | elapsed:    3.1s\n",
      "[Parallel(n_jobs=-1)]: Done 120 tasks      | elapsed:   37.8s\n",
      "[Parallel(n_jobs=-1)]: Done 280 tasks      | elapsed:  2.2min\n",
      "[Parallel(n_jobs=-1)]: Done 504 tasks      | elapsed:  5.0min\n",
      "[Parallel(n_jobs=-1)]: Done 594 out of 594 | elapsed:  5.9min finished\n"
     ]
    },
    {
     "name": "stdout",
     "output_type": "stream",
     "text": [
      "Best 0.024617416081331278 using {'max_depth': 10, 'max_features': 'sqrt', 'n_estimators': 250}\n"
     ]
    }
   ],
   "source": [
    "# GridSearchCV\n",
    "params = {'n_estimators': [50,100,150,200,250,300],\n",
    "          'max_depth': [int(x) for x in np.linspace(0,100,11)],\n",
    "          'max_features': ['auto', 'sqrt', 'log2']\n",
    "          }\n",
    "\n",
    "grid = GridSearchCV(estimator=RandomForestRegressor(random_state=0),\n",
    "                    param_grid=params,\n",
    "                    cv=3,\n",
    "                    n_jobs=-1,\n",
    "                    verbose=3)\n",
    "\n",
    "grid_results = grid.fit(X,y)\n",
    "print('Best {} using {}'.format(grid_results.best_score_, grid_results.best_params_))"
   ]
  },
  {
   "cell_type": "markdown",
   "metadata": {
    "hidden": true
   },
   "source": [
    "Once I know the best parameters for our model I proceed to generate again the Random Forest predictor but with the best parameters. I will also use 3 kfolds to check if the prediction is robust or not.\n",
    "\n",
    "Due to the type of data I want to predict I am interested in creating a custom score metric. For this we create the function custom_score whose output will be \"hit\" or \"miss\" if the difference between the actual target value and the predicted one is greater than 3."
   ]
  },
  {
   "cell_type": "code",
   "execution_count": 166,
   "metadata": {
    "hidden": true
   },
   "outputs": [],
   "source": [
    "cv = KFold(n_splits=3, random_state=0, shuffle=True)\n",
    "rf = RandomForestRegressor(max_depth= 10,\n",
    "                           max_features= 'sqrt',\n",
    "                           n_estimators= 250,\n",
    "                           n_jobs= -1\n",
    "                           )\n",
    "\n",
    "# Score function\n",
    "def custom_score (true, pred):\n",
    "    result = list()\n",
    "    for true, pred in zip(true, pred):\n",
    "        if abs(true - pred) <= 3:\n",
    "            result.append('sucess')\n",
    "        else:\n",
    "            result.append('failure')\n",
    "\n",
    "    result = pd.Series(result)\n",
    "\n",
    "    return result"
   ]
  },
  {
   "cell_type": "markdown",
   "metadata": {
    "heading_collapsed": true
   },
   "source": [
    "## Evaluation"
   ]
  },
  {
   "cell_type": "markdown",
   "metadata": {
    "hidden": true
   },
   "source": [
    "Finally I train the model using 3 kfolds, and generate a prediction for each kfold. The resulting output will be the custom score, which is the percetage of correct predictions for both the train (the part of the dataset with which we have trained the model) and the test (the part of the dataset with which we have not trained the model)."
   ]
  },
  {
   "cell_type": "code",
   "execution_count": 168,
   "metadata": {
    "hidden": true
   },
   "outputs": [
    {
     "name": "stdout",
     "output_type": "stream",
     "text": [
      "TRAIN: [   0    3    6 ... 4228 4231 4232] TEST: [   1    2    4 ... 4229 4230 4233]\n",
      "TRAIN: [   0    1    2 ... 4231 4232 4233] TEST: [   6    8   11 ... 4225 4226 4228]\n",
      "TRAIN: [   1    2    4 ... 4229 4230 4233] TEST: [   0    3    7 ... 4223 4231 4232]\n"
     ]
    },
    {
     "data": {
      "text/html": [
       "<div>\n",
       "<style scoped>\n",
       "    .dataframe tbody tr th:only-of-type {\n",
       "        vertical-align: middle;\n",
       "    }\n",
       "\n",
       "    .dataframe tbody tr th {\n",
       "        vertical-align: top;\n",
       "    }\n",
       "\n",
       "    .dataframe thead th {\n",
       "        text-align: right;\n",
       "    }\n",
       "</style>\n",
       "<table border=\"1\" class=\"dataframe\">\n",
       "  <thead>\n",
       "    <tr style=\"text-align: right;\">\n",
       "      <th></th>\n",
       "      <th>Train</th>\n",
       "      <th>Test</th>\n",
       "    </tr>\n",
       "  </thead>\n",
       "  <tbody>\n",
       "    <tr>\n",
       "      <th>0</th>\n",
       "      <td>0.980510</td>\n",
       "      <td>0.960340</td>\n",
       "    </tr>\n",
       "    <tr>\n",
       "      <th>1</th>\n",
       "      <td>0.977683</td>\n",
       "      <td>0.968816</td>\n",
       "    </tr>\n",
       "    <tr>\n",
       "      <th>2</th>\n",
       "      <td>0.975204</td>\n",
       "      <td>0.965982</td>\n",
       "    </tr>\n",
       "  </tbody>\n",
       "</table>\n",
       "</div>"
      ],
      "text/plain": [
       "      Train      Test\n",
       "0  0.980510  0.960340\n",
       "1  0.977683  0.968816\n",
       "2  0.975204  0.965982"
      ]
     },
     "execution_count": 168,
     "metadata": {},
     "output_type": "execute_result"
    }
   ],
   "source": [
    "# Predicción y score\n",
    "test_score = list()\n",
    "train_score = list()\n",
    "\n",
    "for train_index, test_index in cv.split(X):\n",
    "    print(\"TRAIN:\", train_index, \"TEST:\", test_index)\n",
    "    X_train, X_test = X[train_index], X[test_index]\n",
    "    y_train, y_test = y[train_index], y[test_index]\n",
    "\n",
    "    rf.fit(X_train, y_train)\n",
    "\n",
    "    test_pred = np.round(rf.predict(X_test)).astype(int)\n",
    "    test_custom_score = custom_score(y_test, test_pred)\n",
    "    try:\n",
    "        test_custom_score = test_custom_score.value_counts()[0] / (test_custom_score.value_counts()[1] + test_custom_score.value_counts()[0])\n",
    "    except IndexError:\n",
    "        test_custom_score = float(100)\n",
    "\n",
    "    test_score.append(test_custom_score)\n",
    "\n",
    "\n",
    "    train_pred = np.round(rf.predict(X_train)).astype(int)\n",
    "    train_custom_score = custom_score(y_train, train_pred)\n",
    "    try:\n",
    "        train_custom_score = train_custom_score.value_counts()[0] / (train_custom_score.value_counts()[1] + train_custom_score.value_counts()[0])\n",
    "    except IndexError:\n",
    "        train_custom_score = float(100)\n",
    "\n",
    "    train_score.append(train_custom_score)\n",
    "    \n",
    "\n",
    "test_score = np.asarray(test_score)\n",
    "train_score = np.asarray(train_score)\n",
    "\n",
    "score = pd.DataFrame({'Train': train_score, 'Test': test_score})\n",
    "\n",
    "score"
   ]
  },
  {
   "cell_type": "markdown",
   "metadata": {
    "hidden": true
   },
   "source": [
    "Thank you for your attention. More projects coming soon!"
   ]
  }
 ],
 "metadata": {
  "kernelspec": {
   "display_name": "Python 3",
   "language": "python",
   "name": "python3"
  },
  "language_info": {
   "codemirror_mode": {
    "name": "ipython",
    "version": 3
   },
   "file_extension": ".py",
   "mimetype": "text/x-python",
   "name": "python",
   "nbconvert_exporter": "python",
   "pygments_lexer": "ipython3",
   "version": "3.8.3"
  },
  "toc": {
   "base_numbering": 1,
   "nav_menu": {},
   "number_sections": true,
   "sideBar": true,
   "skip_h1_title": false,
   "title_cell": "Table of Contents",
   "title_sidebar": "Contents",
   "toc_cell": true,
   "toc_position": {},
   "toc_section_display": true,
   "toc_window_display": true
  }
 },
 "nbformat": 4,
 "nbformat_minor": 4
}
