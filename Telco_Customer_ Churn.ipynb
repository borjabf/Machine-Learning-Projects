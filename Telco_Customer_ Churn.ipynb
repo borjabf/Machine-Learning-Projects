{
 "cells": [
  {
   "cell_type": "markdown",
   "metadata": {},
   "source": [
    "IDEAS https://www.kaggle.com/bandiatindra/telecom-churn-prediction"
   ]
  },
  {
   "cell_type": "markdown",
   "metadata": {},
   "source": [
    "### Telco Customer Churn Prediction\n",
    "\n",
    "Churn is one of the biggest problems facing any company nowadays. In a world in which the monthly subscription is one of the most used ways to attract customers, the effort to keep them in the service is very important\n",
    "\n",
    "The dataset with which we are going to create the classification model is [Telco Customer Churn](https://www.kaggle.com/blastchar/telco-customer-churn) from Kaggle.\n",
    "\n",
    "First, we are going to import all the libraries necessary to create the model and open the .csv file. Let's see some information about the data."
   ]
  },
  {
   "cell_type": "code",
   "execution_count": 344,
   "metadata": {},
   "outputs": [],
   "source": [
    "import pandas as pd\n",
    "import numpy as np\n",
    "import matplotlib.pyplot as plt\n",
    "import seaborn as sns\n",
    "from sklearn.preprocessing import MinMaxScaler\n",
    "from sklearn.model_selection import train_test_split, cross_val_score, KFold, GridSearchCV\n",
    "from sklearn.linear_model import LogisticRegression\n",
    "from sklearn.metrics import accuracy_score, plot_confusion_matrix, recall_score, roc_curve, roc_auc_score\n",
    "from sklearn.ensemble import RandomForestClassifier\n",
    "from collections import Counter\n",
    "from imblearn.over_sampling import SMOTE"
   ]
  },
  {
   "cell_type": "markdown",
   "metadata": {},
   "source": [
    "### First look at data"
   ]
  },
  {
   "cell_type": "code",
   "execution_count": 345,
   "metadata": {},
   "outputs": [],
   "source": [
    "# Read the .csv file\n",
    "path = '/Users/MacBookProCasa/Documents/Formación/Data_science/Python/Projects/Datasets/TelcoChurn'\n",
    "data = pd.read_csv(path + '/WA_Fn-UseC_-Telco-Customer-Churn.csv')"
   ]
  },
  {
   "cell_type": "code",
   "execution_count": 346,
   "metadata": {},
   "outputs": [
    {
     "data": {
      "text/html": [
       "<div>\n",
       "<style scoped>\n",
       "    .dataframe tbody tr th:only-of-type {\n",
       "        vertical-align: middle;\n",
       "    }\n",
       "\n",
       "    .dataframe tbody tr th {\n",
       "        vertical-align: top;\n",
       "    }\n",
       "\n",
       "    .dataframe thead th {\n",
       "        text-align: right;\n",
       "    }\n",
       "</style>\n",
       "<table border=\"1\" class=\"dataframe\">\n",
       "  <thead>\n",
       "    <tr style=\"text-align: right;\">\n",
       "      <th></th>\n",
       "      <th>customerID</th>\n",
       "      <th>gender</th>\n",
       "      <th>SeniorCitizen</th>\n",
       "      <th>Partner</th>\n",
       "      <th>Dependents</th>\n",
       "      <th>tenure</th>\n",
       "      <th>PhoneService</th>\n",
       "      <th>MultipleLines</th>\n",
       "      <th>InternetService</th>\n",
       "      <th>OnlineSecurity</th>\n",
       "      <th>...</th>\n",
       "      <th>DeviceProtection</th>\n",
       "      <th>TechSupport</th>\n",
       "      <th>StreamingTV</th>\n",
       "      <th>StreamingMovies</th>\n",
       "      <th>Contract</th>\n",
       "      <th>PaperlessBilling</th>\n",
       "      <th>PaymentMethod</th>\n",
       "      <th>MonthlyCharges</th>\n",
       "      <th>TotalCharges</th>\n",
       "      <th>Churn</th>\n",
       "    </tr>\n",
       "  </thead>\n",
       "  <tbody>\n",
       "    <tr>\n",
       "      <th>0</th>\n",
       "      <td>7590-VHVEG</td>\n",
       "      <td>Female</td>\n",
       "      <td>0</td>\n",
       "      <td>Yes</td>\n",
       "      <td>No</td>\n",
       "      <td>1</td>\n",
       "      <td>No</td>\n",
       "      <td>No phone service</td>\n",
       "      <td>DSL</td>\n",
       "      <td>No</td>\n",
       "      <td>...</td>\n",
       "      <td>No</td>\n",
       "      <td>No</td>\n",
       "      <td>No</td>\n",
       "      <td>No</td>\n",
       "      <td>Month-to-month</td>\n",
       "      <td>Yes</td>\n",
       "      <td>Electronic check</td>\n",
       "      <td>29.85</td>\n",
       "      <td>29.85</td>\n",
       "      <td>No</td>\n",
       "    </tr>\n",
       "    <tr>\n",
       "      <th>1</th>\n",
       "      <td>5575-GNVDE</td>\n",
       "      <td>Male</td>\n",
       "      <td>0</td>\n",
       "      <td>No</td>\n",
       "      <td>No</td>\n",
       "      <td>34</td>\n",
       "      <td>Yes</td>\n",
       "      <td>No</td>\n",
       "      <td>DSL</td>\n",
       "      <td>Yes</td>\n",
       "      <td>...</td>\n",
       "      <td>Yes</td>\n",
       "      <td>No</td>\n",
       "      <td>No</td>\n",
       "      <td>No</td>\n",
       "      <td>One year</td>\n",
       "      <td>No</td>\n",
       "      <td>Mailed check</td>\n",
       "      <td>56.95</td>\n",
       "      <td>1889.5</td>\n",
       "      <td>No</td>\n",
       "    </tr>\n",
       "    <tr>\n",
       "      <th>2</th>\n",
       "      <td>3668-QPYBK</td>\n",
       "      <td>Male</td>\n",
       "      <td>0</td>\n",
       "      <td>No</td>\n",
       "      <td>No</td>\n",
       "      <td>2</td>\n",
       "      <td>Yes</td>\n",
       "      <td>No</td>\n",
       "      <td>DSL</td>\n",
       "      <td>Yes</td>\n",
       "      <td>...</td>\n",
       "      <td>No</td>\n",
       "      <td>No</td>\n",
       "      <td>No</td>\n",
       "      <td>No</td>\n",
       "      <td>Month-to-month</td>\n",
       "      <td>Yes</td>\n",
       "      <td>Mailed check</td>\n",
       "      <td>53.85</td>\n",
       "      <td>108.15</td>\n",
       "      <td>Yes</td>\n",
       "    </tr>\n",
       "    <tr>\n",
       "      <th>3</th>\n",
       "      <td>7795-CFOCW</td>\n",
       "      <td>Male</td>\n",
       "      <td>0</td>\n",
       "      <td>No</td>\n",
       "      <td>No</td>\n",
       "      <td>45</td>\n",
       "      <td>No</td>\n",
       "      <td>No phone service</td>\n",
       "      <td>DSL</td>\n",
       "      <td>Yes</td>\n",
       "      <td>...</td>\n",
       "      <td>Yes</td>\n",
       "      <td>Yes</td>\n",
       "      <td>No</td>\n",
       "      <td>No</td>\n",
       "      <td>One year</td>\n",
       "      <td>No</td>\n",
       "      <td>Bank transfer (automatic)</td>\n",
       "      <td>42.30</td>\n",
       "      <td>1840.75</td>\n",
       "      <td>No</td>\n",
       "    </tr>\n",
       "    <tr>\n",
       "      <th>4</th>\n",
       "      <td>9237-HQITU</td>\n",
       "      <td>Female</td>\n",
       "      <td>0</td>\n",
       "      <td>No</td>\n",
       "      <td>No</td>\n",
       "      <td>2</td>\n",
       "      <td>Yes</td>\n",
       "      <td>No</td>\n",
       "      <td>Fiber optic</td>\n",
       "      <td>No</td>\n",
       "      <td>...</td>\n",
       "      <td>No</td>\n",
       "      <td>No</td>\n",
       "      <td>No</td>\n",
       "      <td>No</td>\n",
       "      <td>Month-to-month</td>\n",
       "      <td>Yes</td>\n",
       "      <td>Electronic check</td>\n",
       "      <td>70.70</td>\n",
       "      <td>151.65</td>\n",
       "      <td>Yes</td>\n",
       "    </tr>\n",
       "  </tbody>\n",
       "</table>\n",
       "<p>5 rows × 21 columns</p>\n",
       "</div>"
      ],
      "text/plain": [
       "   customerID  gender  SeniorCitizen Partner Dependents  tenure PhoneService  \\\n",
       "0  7590-VHVEG  Female              0     Yes         No       1           No   \n",
       "1  5575-GNVDE    Male              0      No         No      34          Yes   \n",
       "2  3668-QPYBK    Male              0      No         No       2          Yes   \n",
       "3  7795-CFOCW    Male              0      No         No      45           No   \n",
       "4  9237-HQITU  Female              0      No         No       2          Yes   \n",
       "\n",
       "      MultipleLines InternetService OnlineSecurity  ... DeviceProtection  \\\n",
       "0  No phone service             DSL             No  ...               No   \n",
       "1                No             DSL            Yes  ...              Yes   \n",
       "2                No             DSL            Yes  ...               No   \n",
       "3  No phone service             DSL            Yes  ...              Yes   \n",
       "4                No     Fiber optic             No  ...               No   \n",
       "\n",
       "  TechSupport StreamingTV StreamingMovies        Contract PaperlessBilling  \\\n",
       "0          No          No              No  Month-to-month              Yes   \n",
       "1          No          No              No        One year               No   \n",
       "2          No          No              No  Month-to-month              Yes   \n",
       "3         Yes          No              No        One year               No   \n",
       "4          No          No              No  Month-to-month              Yes   \n",
       "\n",
       "               PaymentMethod MonthlyCharges  TotalCharges Churn  \n",
       "0           Electronic check          29.85         29.85    No  \n",
       "1               Mailed check          56.95        1889.5    No  \n",
       "2               Mailed check          53.85        108.15   Yes  \n",
       "3  Bank transfer (automatic)          42.30       1840.75    No  \n",
       "4           Electronic check          70.70        151.65   Yes  \n",
       "\n",
       "[5 rows x 21 columns]"
      ]
     },
     "execution_count": 346,
     "metadata": {},
     "output_type": "execute_result"
    }
   ],
   "source": [
    "# Display first 5 rows of the table\n",
    "data.head()"
   ]
  },
  {
   "cell_type": "code",
   "execution_count": 347,
   "metadata": {},
   "outputs": [
    {
     "name": "stdout",
     "output_type": "stream",
     "text": [
      "Columns header:  Index(['customerID', 'gender', 'SeniorCitizen', 'Partner', 'Dependents',\n",
      "       'tenure', 'PhoneService', 'MultipleLines', 'InternetService',\n",
      "       'OnlineSecurity', 'OnlineBackup', 'DeviceProtection', 'TechSupport',\n",
      "       'StreamingTV', 'StreamingMovies', 'Contract', 'PaperlessBilling',\n",
      "       'PaymentMethod', 'MonthlyCharges', 'TotalCharges', 'Churn'],\n",
      "      dtype='object')\n",
      "\n",
      "Number of columns:  21\n"
     ]
    }
   ],
   "source": [
    "# Headers of columns\n",
    "print('Columns header: ',data.columns)\n",
    "print('\\nNumber of columns: ',len(data.columns))"
   ]
  },
  {
   "cell_type": "code",
   "execution_count": 348,
   "metadata": {},
   "outputs": [
    {
     "name": "stdout",
     "output_type": "stream",
     "text": [
      "<class 'pandas.core.frame.DataFrame'>\n",
      "RangeIndex: 7043 entries, 0 to 7042\n",
      "Data columns (total 21 columns):\n",
      " #   Column            Non-Null Count  Dtype  \n",
      "---  ------            --------------  -----  \n",
      " 0   customerID        7043 non-null   object \n",
      " 1   gender            7043 non-null   object \n",
      " 2   SeniorCitizen     7043 non-null   int64  \n",
      " 3   Partner           7043 non-null   object \n",
      " 4   Dependents        7043 non-null   object \n",
      " 5   tenure            7043 non-null   int64  \n",
      " 6   PhoneService      7043 non-null   object \n",
      " 7   MultipleLines     7043 non-null   object \n",
      " 8   InternetService   7043 non-null   object \n",
      " 9   OnlineSecurity    7043 non-null   object \n",
      " 10  OnlineBackup      7043 non-null   object \n",
      " 11  DeviceProtection  7043 non-null   object \n",
      " 12  TechSupport       7043 non-null   object \n",
      " 13  StreamingTV       7043 non-null   object \n",
      " 14  StreamingMovies   7043 non-null   object \n",
      " 15  Contract          7043 non-null   object \n",
      " 16  PaperlessBilling  7043 non-null   object \n",
      " 17  PaymentMethod     7043 non-null   object \n",
      " 18  MonthlyCharges    7043 non-null   float64\n",
      " 19  TotalCharges      7043 non-null   object \n",
      " 20  Churn             7043 non-null   object \n",
      "dtypes: float64(1), int64(2), object(18)\n",
      "memory usage: 1.1+ MB\n"
     ]
    }
   ],
   "source": [
    "# Analyse more info about the data\n",
    "data.info()"
   ]
  },
  {
   "cell_type": "code",
   "execution_count": 349,
   "metadata": {},
   "outputs": [
    {
     "data": {
      "text/plain": [
       "customerID          0\n",
       "gender              0\n",
       "SeniorCitizen       0\n",
       "Partner             0\n",
       "Dependents          0\n",
       "tenure              0\n",
       "PhoneService        0\n",
       "MultipleLines       0\n",
       "InternetService     0\n",
       "OnlineSecurity      0\n",
       "OnlineBackup        0\n",
       "DeviceProtection    0\n",
       "TechSupport         0\n",
       "StreamingTV         0\n",
       "StreamingMovies     0\n",
       "Contract            0\n",
       "PaperlessBilling    0\n",
       "PaymentMethod       0\n",
       "MonthlyCharges      0\n",
       "TotalCharges        0\n",
       "Churn               0\n",
       "dtype: int64"
      ]
     },
     "execution_count": 349,
     "metadata": {},
     "output_type": "execute_result"
    }
   ],
   "source": [
    "# Looking for null values\n",
    "data.isnull().sum()"
   ]
  },
  {
   "cell_type": "markdown",
   "metadata": {},
   "source": [
    "So far we have seen that almost all the data is an **object** data type. That means that we must to transform it by encoding, replacing **strings** to **integer** data types.\n",
    "\n",
    "We also see that there are **21 features** and seems there are no **Nan** values. We should explore it in deep because sometimes there are empty fields with string without text.   "
   ]
  },
  {
   "cell_type": "markdown",
   "metadata": {},
   "source": [
    "### Some feature engeniering"
   ]
  },
  {
   "cell_type": "markdown",
   "metadata": {},
   "source": [
    "First, we will remove the feature \"customerID\" because it doesn't provide any information to the model.\n",
    "\n",
    "Next and before transforming all features on numerical data type with \"get_dummies\" Pandas function, we apply a label encode to the target features \"Churn\". That is necessary to use this feature as \"target\" to train the model.\n",
    "\n",
    "After that step and after taking a look at the rest of features, we decided to apply a one hot encoder to all \"object\" features (except \"churn\"). We will do with \"get_dummies\" function.\n",
    "\n",
    "![hola](get_dummies.png)\n",
    "\n",
    "Because there are 11 rows with no content in the \"TotalCharge\" feature, to encode that feature we have to remove that 11 rows."
   ]
  },
  {
   "cell_type": "code",
   "execution_count": 350,
   "metadata": {},
   "outputs": [
    {
     "name": "stdout",
     "output_type": "stream",
     "text": [
      "Shape antes del mapeo:  (7032, 20)\n",
      "Shape después del mapeo:  (7032, 46)\n",
      "\n",
      " New columns:  26\n"
     ]
    }
   ],
   "source": [
    "# Drop \"customerID\" feature\n",
    "data.drop(['customerID'], axis=1, inplace=True)\n",
    "\n",
    "# Encode the target feature that is binary\n",
    "data['Churn'] = data['Churn'].replace({'No': 0, 'Yes': 1})\n",
    "\n",
    "# Find and remove rows with empty fields in the \"TotalCharge\" feature,\n",
    "# and transform it as \"int\" because it was an \"object\" data type\n",
    "data.drop(data[data['TotalCharges'] == \" \"].index, inplace=True)\n",
    "data['TotalCharges'] = pd.to_numeric(data['TotalCharges'])\n",
    "\n",
    "# One hot encoder for all \"object\" features\n",
    "num_col_before = data.shape[1]\n",
    "print('Shape antes del mapeo: ', data.shape)\n",
    "data = pd.get_dummies(data)\n",
    "print('Shape después del mapeo: ', data.shape)\n",
    "print('\\n New columns: ', data.shape[1] - num_col_before)"
   ]
  },
  {
   "cell_type": "markdown",
   "metadata": {},
   "source": [
    "After applied get_dummie function, we see that there are 26 new columns. Every categorical or object feature was split into as many columns as there unique values. That helps the precision of the algorithm because of ranked columns."
   ]
  },
  {
   "cell_type": "markdown",
   "metadata": {},
   "source": [
    "### EDA"
   ]
  },
  {
   "cell_type": "markdown",
   "metadata": {},
   "source": [
    "Now that we have our data transformed and ready as the input of the classification algorithm, we are going to analyse the data and get insights\n",
    "\n",
    "Correlations analysis helps to determine which features influence the model most. By choosing the correct features the model will be more accurate."
   ]
  },
  {
   "cell_type": "markdown",
   "metadata": {},
   "source": [
    "#### Correlation"
   ]
  },
  {
   "cell_type": "code",
   "execution_count": 402,
   "metadata": {},
   "outputs": [
    {
     "data": {
      "image/png": "[encoded data removed]",
      "text/plain": [
       "<Figure size 1080x576 with 1 Axes>"
      ]
     },
     "metadata": {},
     "output_type": "display_data"
    }
   ],
   "source": [
    "# Correlation chart\n",
    "plt.figure(figsize=(15,8))\n",
    "\n",
    "churn_corr = data.corrwith(data['Churn']).sort_values(ascending=False)\n",
    "churn_corr.plot(kind='bar')\n",
    "\n",
    "plt.show()"
   ]
  },
  {
   "cell_type": "markdown",
   "metadata": {},
   "source": [
    "The plot above tells us that the features most positively correlated with the \"Churn\" target are:\n",
    "- Contract_Month-to-month\n",
    "- OnlineSecurity_No\n",
    "- TechSupport_No\n",
    "\n",
    "And those negative high correlated are:\n",
    "- tenure\n",
    "- Contract_Two year\n",
    "\n",
    "This means that when a user has 1 in positive correlation features the probability of \"Churn\" is higher. And when has 1 in negative correlation features the probability of \"Churn\" decrease."
   ]
  },
  {
   "cell_type": "markdown",
   "metadata": {},
   "source": [
    "#### Target analysis"
   ]
  },
  {
   "cell_type": "markdown",
   "metadata": {},
   "source": [
    "We are going to look at the \"Churn\" target feature."
   ]
  },
  {
   "cell_type": "code",
   "execution_count": 352,
   "metadata": {},
   "outputs": [
    {
     "data": {
      "image/png": "[encoded data removed]",
      "text/plain": [
       "<Figure size 432x288 with 1 Axes>"
      ]
     },
     "metadata": {},
     "output_type": "display_data"
    }
   ],
   "source": [
    "sns.barplot(x=['0','1'], y=data['Churn'].value_counts())\n",
    "plt.show()"
   ]
  },
  {
   "cell_type": "markdown",
   "metadata": {},
   "source": [
    "Clearly, the target is unbalanced. There are almost double \"no churn\" samples than \"churn\". We will have to create new \"Churn\" samples to improve the classificator."
   ]
  },
  {
   "cell_type": "markdown",
   "metadata": {},
   "source": [
    "#### Outliers"
   ]
  },
  {
   "cell_type": "markdown",
   "metadata": {},
   "source": [
    "Because \"tenure\" (*Number of months the customer has stayed with the company*) is one of the most important features correlated with the target, and one of those which has numerical values and no binary, we are going to explore its outliers."
   ]
  },
  {
   "cell_type": "code",
   "execution_count": 353,
   "metadata": {},
   "outputs": [
    {
     "data": {
      "image/png": "[encoded data removed]",
      "text/plain": [
       "<Figure size 432x288 with 1 Axes>"
      ]
     },
     "metadata": {},
     "output_type": "display_data"
    }
   ],
   "source": [
    "sns.boxplot(x=data['Churn'], y=data['tenure'])\n",
    "plt.show()"
   ]
  },
  {
   "cell_type": "markdown",
   "metadata": {},
   "source": [
    "We can see than users that continue (no churn) are in the company since between 20 and 60 months, and those churned were in the company between almost 0 and 30 months. There are many outliers in the churn users that we are going to explore."
   ]
  },
  {
   "cell_type": "code",
   "execution_count": 354,
   "metadata": {},
   "outputs": [
    {
     "name": "stdout",
     "output_type": "stream",
     "text": [
      "Q1 2.0 Q2 10.0 Q3 29.0\n",
      "IQR 27.0\n",
      "\n",
      "\n",
      "Min:  -38.5\n",
      "Max:  69.5\n",
      "\n",
      "Outliears:  [72, 70, 71]\n"
     ]
    }
   ],
   "source": [
    "# Quartils and IQR method to fin outliers\n",
    "data_churn = data[data['Churn'] == 1]\n",
    "\n",
    "Q1 = np.percentile(data_churn['tenure'], 25)\n",
    "Q2 = np.percentile(data_churn['tenure'], 50)\n",
    "Q3 = np.percentile(data_churn['tenure'], 75)\n",
    "\n",
    "print('Q1',Q1, 'Q2',Q2, 'Q3', Q3)\n",
    "IQR = Q3 - Q1\n",
    "print('IQR',IQR)\n",
    "\n",
    "Min = Q1 - 1.5 * IQR\n",
    "Max = Q3 + 1.5 * IQR\n",
    "print('\\n')\n",
    "print('Min: ',Min)\n",
    "print('Max: ',Max)\n",
    "\n",
    "outliers=[]\n",
    "for value in data_churn['tenure']:\n",
    "    if value < Min or value > Max:\n",
    "        outliers.append(value)\n",
    "print('\\nOutliears: ', list(set(outliers)))"
   ]
  },
  {
   "cell_type": "code",
   "execution_count": 355,
   "metadata": {},
   "outputs": [
    {
     "name": "stdout",
     "output_type": "stream",
     "text": [
      "Total outliers rows:  23\n"
     ]
    }
   ],
   "source": [
    "churn_outliers = data_churn[(data_churn['tenure'] == list(set(outliers))[0]) | (data_churn['tenure'] == list(set(outliers))[1]) | (data_churn['tenure'] == list(set(outliers))[2])]['Churn']\n",
    "print('Total outliers rows: ',churn_outliers.value_counts()[1])"
   ]
  },
  {
   "cell_type": "markdown",
   "metadata": {},
   "source": [
    "There are only outliers when churn is 1. And in that case, there are 23 rows affected with \"tenure\" higher than 70. We decide to try the model without these rows."
   ]
  },
  {
   "cell_type": "code",
   "execution_count": 356,
   "metadata": {},
   "outputs": [
    {
     "name": "stdout",
     "output_type": "stream",
     "text": [
      "Rows before:  7032\n",
      "Rows after:  7009\n",
      "\n",
      "Rows dropped:  23\n"
     ]
    }
   ],
   "source": [
    "rows_before_drop = data.shape[0]\n",
    "print('Rows before: ',rows_before_drop)\n",
    "for out in outliers:\n",
    "    data.drop(data[(data['tenure'] == out) & (data['Churn'] == 1)].index, inplace=True)\n",
    "print('Rows after: ',data.shape[0])\n",
    "print('\\nRows dropped: ', rows_before_drop - data.shape[0])"
   ]
  },
  {
   "cell_type": "markdown",
   "metadata": {},
   "source": [
    "### PREPROCESSING"
   ]
  },
  {
   "cell_type": "markdown",
   "metadata": {},
   "source": [
    "#### Standarization"
   ]
  },
  {
   "cell_type": "markdown",
   "metadata": {},
   "source": [
    "Before splitting the data we have to rescale all features to standardise it and help the algorithm to predict better. Let's take another look at the description info only in those non-binary features"
   ]
  },
  {
   "cell_type": "code",
   "execution_count": 357,
   "metadata": {},
   "outputs": [
    {
     "name": "stdout",
     "output_type": "stream",
     "text": [
      "            tenure  MonthlyCharges  TotalCharges\n",
      "count  7009.000000     7009.000000   7009.000000\n",
      "mean     32.295905       64.693230   2268.297104\n",
      "std      24.486718       30.054923   2253.680560\n",
      "min       1.000000       18.250000     18.800000\n",
      "25%       9.000000       35.450000    399.450000\n",
      "50%      29.000000       70.300000   1390.600000\n",
      "75%      55.000000       89.800000   3769.700000\n",
      "max      72.000000      118.750000   8672.450000\n"
     ]
    }
   ],
   "source": [
    "# Explore only features with non binary data\n",
    "columns_gd_1 = list()\n",
    "\n",
    "for c in data.columns:\n",
    "    if (data[c] > 1).any():\n",
    "        columns_gd_1.append(c)\n",
    "\n",
    "print(data.loc[:,data.columns.isin(columns_gd_1)].describe())"
   ]
  },
  {
   "cell_type": "markdown",
   "metadata": {},
   "source": [
    "These are the three non-binary features. Since \"tenure\" and \"MonthlyCharges\" don't have hight maximum value, \"TotalCharges\" does. We will try both techniques MinMaxScaler and logarithm transform. Before that step, we split the data into X and y (target) features."
   ]
  },
  {
   "cell_type": "markdown",
   "metadata": {},
   "source": [
    "##### Min Max Scaler"
   ]
  },
  {
   "cell_type": "code",
   "execution_count": 415,
   "metadata": {},
   "outputs": [
    {
     "name": "stdout",
     "output_type": "stream",
     "text": [
      "X shape:  (7009, 45)\n",
      "y shape:  (7009,)\n"
     ]
    }
   ],
   "source": [
    "# Create X and y datasets\n",
    "X_columns = data.columns[data.columns != 'Churn']\n",
    "X = data[data.columns[data.columns != 'Churn']].values\n",
    "y = data['Churn'].values\n",
    "\n",
    "print('X shape: ', X.shape)\n",
    "print('y shape: ', y.shape)"
   ]
  },
  {
   "cell_type": "code",
   "execution_count": 359,
   "metadata": {},
   "outputs": [],
   "source": [
    "# Min Max Scaler\n",
    "scaler = MinMaxScaler()\n",
    "X = scaler.fit_transform(X)"
   ]
  },
  {
   "cell_type": "markdown",
   "metadata": {},
   "source": [
    "Min Max Scaler process rescale the data from 0 to 1 between the minimum and maximum value of each feature."
   ]
  },
  {
   "cell_type": "markdown",
   "metadata": {},
   "source": [
    "##### Logarithm Transform"
   ]
  },
  {
   "cell_type": "code",
   "execution_count": 414,
   "metadata": {},
   "outputs": [
    {
     "name": "stdout",
     "output_type": "stream",
     "text": [
      "X shape:  (7009, 45)\n",
      "y shape:  (7009,)\n"
     ]
    }
   ],
   "source": [
    "# Logarithm transform\n",
    "for column in columns_gd_1:\n",
    "    data[column] = np.log10(data[column])\n",
    "    \n",
    "# Create X and y\n",
    "X_columns = data.columns[data.columns != 'Churn']\n",
    "X = data[data.columns[data.columns != 'Churn']].values\n",
    "y = data['Churn'].values\n",
    "\n",
    "print('X shape: ', X.shape)\n",
    "print('y shape: ', y.shape)"
   ]
  },
  {
   "cell_type": "markdown",
   "metadata": {},
   "source": [
    "Standardization helps the model to interpret the data better. After applying these two transformations (MinMax and Logarithm) the best score was accomplished with the logarithm transform."
   ]
  },
  {
   "cell_type": "markdown",
   "metadata": {},
   "source": [
    "#### Train / Test split"
   ]
  },
  {
   "cell_type": "markdown",
   "metadata": {},
   "source": [
    "We divide the dataset into two sets, TRAIN and TEST, just to train the model and then test it and predict with the TEST set."
   ]
  },
  {
   "cell_type": "code",
   "execution_count": 361,
   "metadata": {},
   "outputs": [],
   "source": [
    "# Train & Test split\n",
    "X_train, X_test, y_train, y_test = train_test_split(\n",
    "    X, y, test_size=0.3, random_state=42)"
   ]
  },
  {
   "cell_type": "markdown",
   "metadata": {},
   "source": [
    "#### Oversampling SMOTE"
   ]
  },
  {
   "cell_type": "markdown",
   "metadata": {},
   "source": [
    "As we saw before, the target \"Churn\" is very unbalanced having more \"no churn\" samples than \"churn\". This can make it difficult to predict churn samples properly. To avoid this problem we will create more samples of category Churn."
   ]
  },
  {
   "cell_type": "code",
   "execution_count": 362,
   "metadata": {},
   "outputs": [
    {
     "name": "stdout",
     "output_type": "stream",
     "text": [
      "Original data shape:  Counter({0: 3577, 1: 1329})\n",
      "Resampled data shape:  Counter({0: 3577, 1: 3577})\n"
     ]
    }
   ],
   "source": [
    "print('Original data shape: ', Counter(y_train))\n",
    "\n",
    "smote = SMOTE(random_state=42)\n",
    "X_train, y_train = smote.fit_resample(X_train, y_train)\n",
    "\n",
    "print('Resampled data shape: ', Counter(y_train))"
   ]
  },
  {
   "cell_type": "markdown",
   "metadata": {},
   "source": [
    "As we can see above, we have created 2248 new samples of Churn \"Yes\" based on the values of each feature\n",
    "of the real examples."
   ]
  },
  {
   "cell_type": "markdown",
   "metadata": {},
   "source": [
    "### Prediction"
   ]
  },
  {
   "cell_type": "markdown",
   "metadata": {},
   "source": [
    "We will create the model using both Logistic Regression and Random Forest Classification algorithms"
   ]
  },
  {
   "cell_type": "markdown",
   "metadata": {},
   "source": [
    "#### Logistic Regression (GridsearchCV)"
   ]
  },
  {
   "cell_type": "markdown",
   "metadata": {},
   "source": [
    "First, we tune the Logistic Regression algorithm with GridSearchCV from sklearn. This function allows us to try every combination of hyperparameters of the algorithm to find the best one."
   ]
  },
  {
   "cell_type": "code",
   "execution_count": 403,
   "metadata": {},
   "outputs": [
    {
     "name": "stdout",
     "output_type": "stream",
     "text": [
      "Fitting 5 folds for each of 30 candidates, totalling 150 fits\n"
     ]
    },
    {
     "name": "stderr",
     "output_type": "stream",
     "text": [
      "[Parallel(n_jobs=-1)]: Using backend LokyBackend with 4 concurrent workers.\n",
      "[Parallel(n_jobs=-1)]: Done  24 tasks      | elapsed:    2.3s\n"
     ]
    },
    {
     "name": "stdout",
     "output_type": "stream",
     "text": [
      "Best 0.7857167709997899 using {'C': 0.01, 'penalty': 'l2', 'solver': 'newton-cg'}\n"
     ]
    },
    {
     "name": "stderr",
     "output_type": "stream",
     "text": [
      "[Parallel(n_jobs=-1)]: Done 150 out of 150 | elapsed:   10.7s finished\n"
     ]
    }
   ],
   "source": [
    "model = LogisticRegression()\n",
    "solvers = ['newton-cg', 'lbfgs', 'liblinear']\n",
    "penalty = ['l1','l2']\n",
    "c_values = [0.01, 0.1, 1, 10, 100]\n",
    "params = dict(solver=solvers, penalty=penalty, C=c_values)\n",
    "\n",
    "grid = GridSearchCV(estimator=model,\n",
    "                    param_grid=params,\n",
    "                    n_jobs=-1,\n",
    "                    verbose=3)\n",
    "\n",
    "grid_results = grid.fit(X_train, y_train)\n",
    "\n",
    "print('Best {} using {}'.format(grid_results.best_score_, grid_results.best_params_))"
   ]
  },
  {
   "cell_type": "markdown",
   "metadata": {},
   "source": [
    "Above we have the best score (accuracy) associated with the best combination of parameters. This is the result of the TRAIN set. For more information, we can explore the below dataframe created from the cv_results_ attribute."
   ]
  },
  {
   "cell_type": "code",
   "execution_count": 389,
   "metadata": {},
   "outputs": [
    {
     "data": {
      "text/html": [
       "<div>\n",
       "<style scoped>\n",
       "    .dataframe tbody tr th:only-of-type {\n",
       "        vertical-align: middle;\n",
       "    }\n",
       "\n",
       "    .dataframe tbody tr th {\n",
       "        vertical-align: top;\n",
       "    }\n",
       "\n",
       "    .dataframe thead th {\n",
       "        text-align: right;\n",
       "    }\n",
       "</style>\n",
       "<table border=\"1\" class=\"dataframe\">\n",
       "  <thead>\n",
       "    <tr style=\"text-align: right;\">\n",
       "      <th></th>\n",
       "      <th>mean_fit_time</th>\n",
       "      <th>std_fit_time</th>\n",
       "      <th>mean_score_time</th>\n",
       "      <th>std_score_time</th>\n",
       "      <th>param_C</th>\n",
       "      <th>param_penalty</th>\n",
       "      <th>param_solver</th>\n",
       "      <th>params</th>\n",
       "      <th>split0_test_score</th>\n",
       "      <th>split1_test_score</th>\n",
       "      <th>split2_test_score</th>\n",
       "      <th>split3_test_score</th>\n",
       "      <th>split4_test_score</th>\n",
       "      <th>mean_test_score</th>\n",
       "      <th>std_test_score</th>\n",
       "      <th>rank_test_score</th>\n",
       "    </tr>\n",
       "  </thead>\n",
       "  <tbody>\n",
       "    <tr>\n",
       "      <th>0</th>\n",
       "      <td>0.002261</td>\n",
       "      <td>0.000086</td>\n",
       "      <td>0.000000</td>\n",
       "      <td>0.000000</td>\n",
       "      <td>0.01</td>\n",
       "      <td>l1</td>\n",
       "      <td>newton-cg</td>\n",
       "      <td>{'C': 0.01, 'penalty': 'l1', 'solver': 'newton...</td>\n",
       "      <td>NaN</td>\n",
       "      <td>NaN</td>\n",
       "      <td>NaN</td>\n",
       "      <td>NaN</td>\n",
       "      <td>NaN</td>\n",
       "      <td>NaN</td>\n",
       "      <td>NaN</td>\n",
       "      <td>30</td>\n",
       "    </tr>\n",
       "    <tr>\n",
       "      <th>1</th>\n",
       "      <td>0.001868</td>\n",
       "      <td>0.000553</td>\n",
       "      <td>0.000000</td>\n",
       "      <td>0.000000</td>\n",
       "      <td>0.01</td>\n",
       "      <td>l1</td>\n",
       "      <td>lbfgs</td>\n",
       "      <td>{'C': 0.01, 'penalty': 'l1', 'solver': 'lbfgs'}</td>\n",
       "      <td>NaN</td>\n",
       "      <td>NaN</td>\n",
       "      <td>NaN</td>\n",
       "      <td>NaN</td>\n",
       "      <td>NaN</td>\n",
       "      <td>NaN</td>\n",
       "      <td>NaN</td>\n",
       "      <td>29</td>\n",
       "    </tr>\n",
       "    <tr>\n",
       "      <th>2</th>\n",
       "      <td>0.061604</td>\n",
       "      <td>0.014298</td>\n",
       "      <td>0.001281</td>\n",
       "      <td>0.000676</td>\n",
       "      <td>0.01</td>\n",
       "      <td>l1</td>\n",
       "      <td>liblinear</td>\n",
       "      <td>{'C': 0.01, 'penalty': 'l1', 'solver': 'liblin...</td>\n",
       "      <td>0.767296</td>\n",
       "      <td>0.772187</td>\n",
       "      <td>0.789658</td>\n",
       "      <td>0.786164</td>\n",
       "      <td>0.797203</td>\n",
       "      <td>0.782501</td>\n",
       "      <td>0.011121</td>\n",
       "      <td>20</td>\n",
       "    </tr>\n",
       "    <tr>\n",
       "      <th>3</th>\n",
       "      <td>0.116208</td>\n",
       "      <td>0.017272</td>\n",
       "      <td>0.000828</td>\n",
       "      <td>0.000050</td>\n",
       "      <td>0.01</td>\n",
       "      <td>l2</td>\n",
       "      <td>newton-cg</td>\n",
       "      <td>{'C': 0.01, 'penalty': 'l2', 'solver': 'newton...</td>\n",
       "      <td>0.774284</td>\n",
       "      <td>0.775681</td>\n",
       "      <td>0.787561</td>\n",
       "      <td>0.787561</td>\n",
       "      <td>0.803497</td>\n",
       "      <td>0.785717</td>\n",
       "      <td>0.010529</td>\n",
       "      <td>1</td>\n",
       "    </tr>\n",
       "    <tr>\n",
       "      <th>4</th>\n",
       "      <td>0.052627</td>\n",
       "      <td>0.007878</td>\n",
       "      <td>0.000823</td>\n",
       "      <td>0.000188</td>\n",
       "      <td>0.01</td>\n",
       "      <td>l2</td>\n",
       "      <td>lbfgs</td>\n",
       "      <td>{'C': 0.01, 'penalty': 'l2', 'solver': 'lbfgs'}</td>\n",
       "      <td>0.774284</td>\n",
       "      <td>0.775681</td>\n",
       "      <td>0.787561</td>\n",
       "      <td>0.787561</td>\n",
       "      <td>0.803497</td>\n",
       "      <td>0.785717</td>\n",
       "      <td>0.010529</td>\n",
       "      <td>1</td>\n",
       "    </tr>\n",
       "  </tbody>\n",
       "</table>\n",
       "</div>"
      ],
      "text/plain": [
       "   mean_fit_time  std_fit_time  mean_score_time  std_score_time param_C  \\\n",
       "0       0.002261      0.000086         0.000000        0.000000    0.01   \n",
       "1       0.001868      0.000553         0.000000        0.000000    0.01   \n",
       "2       0.061604      0.014298         0.001281        0.000676    0.01   \n",
       "3       0.116208      0.017272         0.000828        0.000050    0.01   \n",
       "4       0.052627      0.007878         0.000823        0.000188    0.01   \n",
       "\n",
       "  param_penalty param_solver  \\\n",
       "0            l1    newton-cg   \n",
       "1            l1        lbfgs   \n",
       "2            l1    liblinear   \n",
       "3            l2    newton-cg   \n",
       "4            l2        lbfgs   \n",
       "\n",
       "                                              params  split0_test_score  \\\n",
       "0  {'C': 0.01, 'penalty': 'l1', 'solver': 'newton...                NaN   \n",
       "1    {'C': 0.01, 'penalty': 'l1', 'solver': 'lbfgs'}                NaN   \n",
       "2  {'C': 0.01, 'penalty': 'l1', 'solver': 'liblin...           0.767296   \n",
       "3  {'C': 0.01, 'penalty': 'l2', 'solver': 'newton...           0.774284   \n",
       "4    {'C': 0.01, 'penalty': 'l2', 'solver': 'lbfgs'}           0.774284   \n",
       "\n",
       "   split1_test_score  split2_test_score  split3_test_score  split4_test_score  \\\n",
       "0                NaN                NaN                NaN                NaN   \n",
       "1                NaN                NaN                NaN                NaN   \n",
       "2           0.772187           0.789658           0.786164           0.797203   \n",
       "3           0.775681           0.787561           0.787561           0.803497   \n",
       "4           0.775681           0.787561           0.787561           0.803497   \n",
       "\n",
       "   mean_test_score  std_test_score  rank_test_score  \n",
       "0              NaN             NaN               30  \n",
       "1              NaN             NaN               29  \n",
       "2         0.782501        0.011121               20  \n",
       "3         0.785717        0.010529                1  \n",
       "4         0.785717        0.010529                1  "
      ]
     },
     "execution_count": 389,
     "metadata": {},
     "output_type": "execute_result"
    }
   ],
   "source": [
    "# Grid Results\n",
    "grid_re = grid_results.cv_results_\n",
    "cv_results = pd.DataFrame()\n",
    "\n",
    "for key, value in grid_re.items():\n",
    "    cv_results[key] = value\n",
    "    \n",
    "cv_results.head()    "
   ]
  },
  {
   "cell_type": "code",
   "execution_count": 406,
   "metadata": {},
   "outputs": [
    {
     "data": {
      "text/plain": [
       "LogisticRegression(C=0.01, random_state=0, solver='newton-cg')"
      ]
     },
     "execution_count": 406,
     "metadata": {},
     "output_type": "execute_result"
    }
   ],
   "source": [
    "# Logistic with best params\n",
    "loreg_best = LogisticRegression(C=0.01,\n",
    "                                penalty='l2',\n",
    "                                solver='newton-cg',\n",
    "                               random_state=0)\n",
    "\n",
    "loreg_best.fit(X_train, y_train)"
   ]
  },
  {
   "cell_type": "code",
   "execution_count": 407,
   "metadata": {},
   "outputs": [
    {
     "name": "stdout",
     "output_type": "stream",
     "text": [
      "Logistic Regression Accuracy:  0.7703281027104137\n",
      "\n",
      "Logistic Regression Recall:  0.8317214700193424\n"
     ]
    }
   ],
   "source": [
    "# Logistic prediction with best params\n",
    "loreg_best_pred = loreg_best.predict(X_test)\n",
    "loreg_best_score = loreg_best.score(X_test, y_test)\n",
    "print('Logistic Regression Accuracy: ',loreg_best_score)\n",
    "print('\\nLogistic Regression Recall: ', recall_score(y_test, loreg_best_pred))"
   ]
  },
  {
   "cell_type": "code",
   "execution_count": 380,
   "metadata": {},
   "outputs": [
    {
     "data": {
      "image/png": "[encoded data removed]",
      "text/plain": [
       "<Figure size 432x288 with 2 Axes>"
      ]
     },
     "metadata": {},
     "output_type": "display_data"
    }
   ],
   "source": [
    "# Confusion matrix\n",
    "plot_confusion_matrix(loreg_best, X_test, y_test, cmap='binary')\n",
    "\n",
    "plt.show()"
   ]
  },
  {
   "cell_type": "markdown",
   "metadata": {},
   "source": [
    "Here we have the confusion matrix in which we can compare the samples of each class and the class predicted. Our goal is to create a good classificator for class 1 (Churn). This plot shows a good approach to that goal."
   ]
  },
  {
   "cell_type": "markdown",
   "metadata": {},
   "source": [
    "#### Random Forest (GridsearchCV)"
   ]
  },
  {
   "cell_type": "markdown",
   "metadata": {},
   "source": [
    "The second classification algorithm that we are going to use is Random Forest. The steps will be the same as taken with Logistic Regression."
   ]
  },
  {
   "cell_type": "code",
   "execution_count": 369,
   "metadata": {},
   "outputs": [
    {
     "name": "stdout",
     "output_type": "stream",
     "text": [
      "Best 0.8553331085406557 using {'criterion': 'gini', 'max_depth': 20, 'n_estimators': 300}\n"
     ]
    }
   ],
   "source": [
    "max_depth_generator = [int(x) for x in np.linspace(10,50,5)]\n",
    "max_depth_generator.append(None)\n",
    "\n",
    "params = {'n_estimators': [100, 200, 300],\n",
    "         'criterion': ['gini'],\n",
    "         'max_depth': max_depth_generator,\n",
    "         }\n",
    "\n",
    "rf_model = RandomForestClassifier()\n",
    "rf_grid = GridSearchCV(estimator=rf_model,\n",
    "                      param_grid=params)\n",
    "\n",
    "grid_results = rf_grid.fit(X_train, y_train)\n",
    "\n",
    "print('Best {} using {}'.format(grid_results.best_score_, grid_results.best_params_))"
   ]
  },
  {
   "cell_type": "code",
   "execution_count": 386,
   "metadata": {},
   "outputs": [
    {
     "data": {
      "text/html": [
       "<div>\n",
       "<style scoped>\n",
       "    .dataframe tbody tr th:only-of-type {\n",
       "        vertical-align: middle;\n",
       "    }\n",
       "\n",
       "    .dataframe tbody tr th {\n",
       "        vertical-align: top;\n",
       "    }\n",
       "\n",
       "    .dataframe thead th {\n",
       "        text-align: right;\n",
       "    }\n",
       "</style>\n",
       "<table border=\"1\" class=\"dataframe\">\n",
       "  <thead>\n",
       "    <tr style=\"text-align: right;\">\n",
       "      <th></th>\n",
       "      <th>mean_fit_time</th>\n",
       "      <th>std_fit_time</th>\n",
       "      <th>mean_score_time</th>\n",
       "      <th>std_score_time</th>\n",
       "      <th>param_criterion</th>\n",
       "      <th>param_max_depth</th>\n",
       "      <th>param_n_estimators</th>\n",
       "      <th>params</th>\n",
       "      <th>split0_test_score</th>\n",
       "      <th>split1_test_score</th>\n",
       "      <th>split2_test_score</th>\n",
       "      <th>split3_test_score</th>\n",
       "      <th>split4_test_score</th>\n",
       "      <th>mean_test_score</th>\n",
       "      <th>std_test_score</th>\n",
       "      <th>rank_test_score</th>\n",
       "    </tr>\n",
       "  </thead>\n",
       "  <tbody>\n",
       "    <tr>\n",
       "      <th>0</th>\n",
       "      <td>0.549016</td>\n",
       "      <td>0.011252</td>\n",
       "      <td>0.029083</td>\n",
       "      <td>0.000518</td>\n",
       "      <td>gini</td>\n",
       "      <td>10</td>\n",
       "      <td>100</td>\n",
       "      <td>{'criterion': 'gini', 'max_depth': 10, 'n_esti...</td>\n",
       "      <td>0.779175</td>\n",
       "      <td>0.788260</td>\n",
       "      <td>0.860936</td>\n",
       "      <td>0.876310</td>\n",
       "      <td>0.874126</td>\n",
       "      <td>0.835762</td>\n",
       "      <td>0.042914</td>\n",
       "      <td>18</td>\n",
       "    </tr>\n",
       "    <tr>\n",
       "      <th>1</th>\n",
       "      <td>1.084467</td>\n",
       "      <td>0.007258</td>\n",
       "      <td>0.056546</td>\n",
       "      <td>0.000801</td>\n",
       "      <td>gini</td>\n",
       "      <td>10</td>\n",
       "      <td>200</td>\n",
       "      <td>{'criterion': 'gini', 'max_depth': 10, 'n_esti...</td>\n",
       "      <td>0.777778</td>\n",
       "      <td>0.795947</td>\n",
       "      <td>0.862334</td>\n",
       "      <td>0.874214</td>\n",
       "      <td>0.879720</td>\n",
       "      <td>0.837999</td>\n",
       "      <td>0.042519</td>\n",
       "      <td>16</td>\n",
       "    </tr>\n",
       "    <tr>\n",
       "      <th>2</th>\n",
       "      <td>1.651833</td>\n",
       "      <td>0.075415</td>\n",
       "      <td>0.088044</td>\n",
       "      <td>0.007390</td>\n",
       "      <td>gini</td>\n",
       "      <td>10</td>\n",
       "      <td>300</td>\n",
       "      <td>{'criterion': 'gini', 'max_depth': 10, 'n_esti...</td>\n",
       "      <td>0.778477</td>\n",
       "      <td>0.792453</td>\n",
       "      <td>0.863732</td>\n",
       "      <td>0.875611</td>\n",
       "      <td>0.879021</td>\n",
       "      <td>0.837859</td>\n",
       "      <td>0.043306</td>\n",
       "      <td>17</td>\n",
       "    </tr>\n",
       "    <tr>\n",
       "      <th>3</th>\n",
       "      <td>0.676629</td>\n",
       "      <td>0.004360</td>\n",
       "      <td>0.035113</td>\n",
       "      <td>0.000514</td>\n",
       "      <td>gini</td>\n",
       "      <td>20</td>\n",
       "      <td>100</td>\n",
       "      <td>{'criterion': 'gini', 'max_depth': 20, 'n_esti...</td>\n",
       "      <td>0.784766</td>\n",
       "      <td>0.786862</td>\n",
       "      <td>0.886094</td>\n",
       "      <td>0.894479</td>\n",
       "      <td>0.910490</td>\n",
       "      <td>0.852538</td>\n",
       "      <td>0.055045</td>\n",
       "      <td>4</td>\n",
       "    </tr>\n",
       "    <tr>\n",
       "      <th>4</th>\n",
       "      <td>1.328288</td>\n",
       "      <td>0.017408</td>\n",
       "      <td>0.068496</td>\n",
       "      <td>0.000717</td>\n",
       "      <td>gini</td>\n",
       "      <td>20</td>\n",
       "      <td>200</td>\n",
       "      <td>{'criterion': 'gini', 'max_depth': 20, 'n_esti...</td>\n",
       "      <td>0.783368</td>\n",
       "      <td>0.781971</td>\n",
       "      <td>0.889588</td>\n",
       "      <td>0.897275</td>\n",
       "      <td>0.908392</td>\n",
       "      <td>0.852119</td>\n",
       "      <td>0.057021</td>\n",
       "      <td>8</td>\n",
       "    </tr>\n",
       "  </tbody>\n",
       "</table>\n",
       "</div>"
      ],
      "text/plain": [
       "   mean_fit_time  std_fit_time  mean_score_time  std_score_time  \\\n",
       "0       0.549016      0.011252         0.029083        0.000518   \n",
       "1       1.084467      0.007258         0.056546        0.000801   \n",
       "2       1.651833      0.075415         0.088044        0.007390   \n",
       "3       0.676629      0.004360         0.035113        0.000514   \n",
       "4       1.328288      0.017408         0.068496        0.000717   \n",
       "\n",
       "  param_criterion param_max_depth param_n_estimators  \\\n",
       "0            gini              10                100   \n",
       "1            gini              10                200   \n",
       "2            gini              10                300   \n",
       "3            gini              20                100   \n",
       "4            gini              20                200   \n",
       "\n",
       "                                              params  split0_test_score  \\\n",
       "0  {'criterion': 'gini', 'max_depth': 10, 'n_esti...           0.779175   \n",
       "1  {'criterion': 'gini', 'max_depth': 10, 'n_esti...           0.777778   \n",
       "2  {'criterion': 'gini', 'max_depth': 10, 'n_esti...           0.778477   \n",
       "3  {'criterion': 'gini', 'max_depth': 20, 'n_esti...           0.784766   \n",
       "4  {'criterion': 'gini', 'max_depth': 20, 'n_esti...           0.783368   \n",
       "\n",
       "   split1_test_score  split2_test_score  split3_test_score  split4_test_score  \\\n",
       "0           0.788260           0.860936           0.876310           0.874126   \n",
       "1           0.795947           0.862334           0.874214           0.879720   \n",
       "2           0.792453           0.863732           0.875611           0.879021   \n",
       "3           0.786862           0.886094           0.894479           0.910490   \n",
       "4           0.781971           0.889588           0.897275           0.908392   \n",
       "\n",
       "   mean_test_score  std_test_score  rank_test_score  \n",
       "0         0.835762        0.042914               18  \n",
       "1         0.837999        0.042519               16  \n",
       "2         0.837859        0.043306               17  \n",
       "3         0.852538        0.055045                4  \n",
       "4         0.852119        0.057021                8  "
      ]
     },
     "execution_count": 386,
     "metadata": {},
     "output_type": "execute_result"
    }
   ],
   "source": [
    "# Grid Results\n",
    "grid_re = grid_results.cv_results_\n",
    "cv_results = pd.DataFrame()\n",
    "\n",
    "for key, value in grid_re.items():\n",
    "    cv_results[key] = value\n",
    "    \n",
    "cv_results.head() "
   ]
  },
  {
   "cell_type": "code",
   "execution_count": 420,
   "metadata": {},
   "outputs": [
    {
     "data": {
      "text/plain": [
       "RandomForestClassifier(max_depth=20, n_estimators=300, random_state=0)"
      ]
     },
     "execution_count": 420,
     "metadata": {},
     "output_type": "execute_result"
    }
   ],
   "source": [
    "# Random Forest with best params\n",
    "rf_best = RandomForestClassifier(max_depth=20,\n",
    "                                 n_estimators=300,\n",
    "                                 criterion='gini',\n",
    "                                 random_state=0)\n",
    "\n",
    "rf_best.fit(X_train, y_train)"
   ]
  },
  {
   "cell_type": "code",
   "execution_count": 419,
   "metadata": {},
   "outputs": [
    {
     "name": "stdout",
     "output_type": "stream",
     "text": [
      "Random Forest Accuracy:  0.8017118402282454\n",
      "\n",
      "Random Forest Recall:  0.6344294003868471\n"
     ]
    }
   ],
   "source": [
    "# Random Forest prediction with best params\n",
    "rf_best_pred = rf_best.predict(X_test)\n",
    "rf_best_score = rf_best.score(X_test, y_test)\n",
    "print('Random Forest Accuracy: ',rf_best_score)\n",
    "print('\\nRandom Forest Recall: ', recall_score(y_test, rf_best_pred))"
   ]
  },
  {
   "cell_type": "code",
   "execution_count": 410,
   "metadata": {},
   "outputs": [
    {
     "data": {
      "image/png": "[encoded data removed]",
      "text/plain": [
       "<Figure size 432x288 with 2 Axes>"
      ]
     },
     "metadata": {},
     "output_type": "display_data"
    }
   ],
   "source": [
    "# Confusion matrix\n",
    "plot_confusion_matrix(rf_best, X_test, y_test, cmap='binary')\n",
    "\n",
    "plt.show()"
   ]
  },
  {
   "cell_type": "markdown",
   "metadata": {},
   "source": [
    "Comparing the Recall score of Logistic Regression and Random Forest we can see that Logistic is better using the best parameters in both cases. We will visualize these results better in next steps."
   ]
  },
  {
   "cell_type": "markdown",
   "metadata": {},
   "source": [
    "#### AUC & ROC"
   ]
  },
  {
   "cell_type": "code",
   "execution_count": 421,
   "metadata": {},
   "outputs": [
    {
     "data": {
      "image/png": "[encoded data removed]",
      "text/plain": [
       "<Figure size 720x360 with 1 Axes>"
      ]
     },
     "metadata": {},
     "output_type": "display_data"
    }
   ],
   "source": [
    "# ROC\n",
    "fig, axes = plt.subplots(figsize=(10,5))\n",
    "\n",
    "# Logistic Regression roc \n",
    "loreg_fpr, loreg_tpr, _ = roc_curve(y_test, loreg_best_pred)\n",
    "axes.plot(loreg_fpr, loreg_tpr, label='Logistic Regression')\n",
    "\n",
    "# Random Forest roc\n",
    "rf_fpr, rf_tpr, _ = roc_curve(y_test, rf_best_pred)\n",
    "axes.plot(rf_fpr, rf_tpr, label='Random Forest')\n",
    "\n",
    "axes.set_title('ROC curve')\n",
    "axes.set_xlabel('True Positive Rate')\n",
    "axes.set_ylabel('False Positive Rate')\n",
    "axes.legend()\n",
    "\n",
    "plt.show()"
   ]
  },
  {
   "cell_type": "code",
   "execution_count": 393,
   "metadata": {},
   "outputs": [
    {
     "name": "stdout",
     "output_type": "stream",
     "text": [
      "Logistic Regression AUC:  0.8701842280495925\n",
      "Random Forest AUC:  0.8420756083818518\n"
     ]
    }
   ],
   "source": [
    "# Logistic Refression AUC\n",
    "print('Logistic Regression AUC: ', roc_auc_score(y_test, loreg_best.predict_proba(X_test)[:,1]))\n",
    "print('Random Forest AUC: ', roc_auc_score(y_test, rf_best.predict_proba(X_test)[:,1]))"
   ]
  },
  {
   "cell_type": "markdown",
   "metadata": {},
   "source": [
    "ROC curve help us to evaluate how well is classified the positive class. The chart shows that both algorithms don't rate positives as well as ther should.\n",
    "\n",
    "AUC score represents the probability that a random positive sample (Churn). Logistic Regression has better AUC than Random Forest."
   ]
  }
 ],
 "metadata": {
  "kernelspec": {
   "display_name": "Python 3",
   "language": "python",
   "name": "python3"
  },
  "language_info": {
   "codemirror_mode": {
    "name": "ipython",
    "version": 3
   },
   "file_extension": ".py",
   "mimetype": "text/x-python",
   "name": "python",
   "nbconvert_exporter": "python",
   "pygments_lexer": "ipython3",
   "version": "3.8.3"
  },
  "toc": {
   "base_numbering": 1,
   "nav_menu": {},
   "number_sections": true,
   "sideBar": true,
   "skip_h1_title": false,
   "title_cell": "Table of Contents",
   "title_sidebar": "Contents",
   "toc_cell": false,
   "toc_position": {
    "height": "calc(100% - 180px)",
    "left": "10px",
    "top": "150px",
    "width": "307.20001220703125px"
   },
   "toc_section_display": true,
   "toc_window_display": true
  }
 },
 "nbformat": 4,
 "nbformat_minor": 4
}
